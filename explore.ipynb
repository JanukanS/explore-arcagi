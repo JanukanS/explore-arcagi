{
 "cells": [
  {
   "cell_type": "markdown",
   "id": "498f602472db664d",
   "metadata": {},
   "source": [
    "# Imports"
   ]
  },
  {
   "cell_type": "code",
   "id": "b75d6144eb4ada26",
   "metadata": {
    "ExecuteTime": {
     "end_time": "2025-03-26T02:49:25.425219Z",
     "start_time": "2025-03-26T02:49:23.756113Z"
    }
   },
   "source": [
    "import requests\n",
    "from zipfile import ZipFile\n",
    "from io import BytesIO\n",
    "import fnmatch\n",
    "import json\n",
    "from typing import Mapping,List, Dict, Any\n",
    "from pathlib import Path\n",
    "from pprint import pprint\n",
    "import numpy as np\n",
    "from dataclasses import dataclass\n",
    "import matplotlib.pyplot as plt\n",
    "from matplotlib.colors import ListedColormap\n"
   ],
   "outputs": [],
   "execution_count": 2
  },
  {
   "cell_type": "code",
   "id": "b7c14ebef9cd174f",
   "metadata": {
    "ExecuteTime": {
     "end_time": "2025-03-26T02:49:25.454463Z",
     "start_time": "2025-03-26T02:49:25.446263Z"
    }
   },
   "source": [
    "arcagi_colours = ['#000000',\n",
    "                  '#1e93ff',\n",
    "                  '#F93C31',#'#[1,0.2549019607843137,0.21176470588235294,1], # 2 - Red: #F93C31\n",
    "                  '#4fcc30', # 3 - Green: #2ECC40\n",
    "                  '#ffdc00', # 4 - Yellow: #FFDC00\n",
    "                  '#999999', # 5 - Gray:  #AAAAAA\n",
    "                  '#e53aa3', # 6 - Fuschia: #F012BE\n",
    "                  '#ff851b', # 7 - Orange: #FF851B\n",
    "                  '#87d8f1', # 8 - Teal: #7FDBFF;\n",
    "                  '#921231'] # 9 - Brown: #870C25\n",
    "arcaci_colormap = ListedColormap(arcagi_colours)\n"
   ],
   "outputs": [],
   "execution_count": 3
  },
  {
   "cell_type": "code",
   "id": "ac851eef4f323fd4",
   "metadata": {
    "ExecuteTime": {
     "end_time": "2025-03-26T02:49:25.492226Z",
     "start_time": "2025-03-26T02:49:25.487910Z"
    }
   },
   "source": [],
   "outputs": [],
   "execution_count": null
  },
  {
   "cell_type": "code",
   "id": "5f1fe7347531350b",
   "metadata": {
    "ExecuteTime": {
     "end_time": "2025-03-26T02:49:25.525587Z",
     "start_time": "2025-03-26T02:49:25.512346Z"
    }
   },
   "source": [
    "@dataclass\n",
    "class TaskGridPair:\n",
    "    input: np.array\n",
    "    output: np.array\n",
    "\n",
    "    @classmethod\n",
    "    def from_dict(cls, d):\n",
    "        return TaskGridPair(np.asarray(d[\"input\"]),\n",
    "                          np.asarray(d[\"output\"]))\n",
    "\n",
    "    def __repr__(self):\n",
    "        return f\"TaskPair[Input: {self.input.shape} -> Output: {self.output.shape}]\"\n",
    "\n",
    "@dataclass\n",
    "class Task:\n",
    "    train: List[TaskGridPair]\n",
    "    test: List[TaskGridPair]\n",
    "\n",
    "    @classmethod\n",
    "    def from_dict(cls, d):\n",
    "        return Task(cls._process_caselist(d[\"train\"]),\n",
    "                    cls._process_caselist(d[\"test\"]))\n",
    "\n",
    "    @staticmethod\n",
    "    def _process_caselist(case_list):\n",
    "        return [TaskGridPair.from_dict(case_dict) for case_dict in case_list]\n",
    "\n",
    "    def __repr__(self):\n",
    "        return f\"Task[Training: {len(self.train)} -> Test: {len(self.test)}]\"\n",
    "\n",
    "@dataclass\n",
    "class TaskSet:\n",
    "    label: str\n",
    "    training: Dict[str, Task]\n",
    "    evaluation: Dict[str, Task]\n",
    "\n",
    "    @classmethod\n",
    "    def _glob_to_dict(cls, glob_name, zipfile):\n",
    "        filelist = fnmatch.filter(zipfile.namelist(), glob_name)\n",
    "        task_gen = lambda fn: Task.from_dict(json.load(zipfile.open(fn)))\n",
    "        return {Path(fn).stem: task_gen(fn) for fn in filelist}\n",
    "\n",
    "    @classmethod\n",
    "    def from_zipfile(cls, label: str, zipfile: ZipFile):\n",
    "        return TaskSet(label,\n",
    "                       cls._glob_to_dict(\"*/data/training/*.json\", zipfile),\n",
    "                       cls._glob_to_dict(\"*/data/evaluation/*.json\", zipfile))\n",
    "\n"
   ],
   "outputs": [],
   "execution_count": 4
  },
  {
   "cell_type": "code",
   "id": "d7390e24c9c6c2d0",
   "metadata": {
    "ExecuteTime": {
     "end_time": "2025-03-26T02:49:28.007286Z",
     "start_time": "2025-03-26T02:49:25.572524Z"
    }
   },
   "source": [
    "ARC_LINKS = {'ARC-AGI-1': \"https://github.com/fchollet/ARC-AGI/archive/refs/heads/master.zip\",\n",
    "             'ARC-AGI-2': \"https://github.com/arcprize/ARC-AGI-2/archive/refs/heads/main.zip\"}\n",
    "\n",
    "def get_zip(link: str) -> ZipFile:\n",
    "    response = requests.get(link)\n",
    "    return ZipFile(BytesIO(response.content))\n",
    "\n",
    "ARC_ZIP = {k: get_zip(v) for k, v in ARC_LINKS.items()}\n",
    "ARC_DATA = {k:TaskSet.from_zipfile(k,v) for k, v in ARC_ZIP.items()}"
   ],
   "outputs": [],
   "execution_count": 5
  },
  {
   "cell_type": "code",
   "id": "94f9497d693b62ed",
   "metadata": {
    "ExecuteTime": {
     "end_time": "2025-03-26T03:07:28.602330Z",
     "start_time": "2025-03-26T03:07:28.449771Z"
    }
   },
   "source": [
    "def plotgrid(grid):\n",
    "    plt.style.use('dark_background')\n",
    "    plt.pcolor(grid.T,\n",
    "               edgecolors='grey',\n",
    "               linewidths=2,\n",
    "               cmap=arcaci_colormap,\n",
    "               vmin=0,\n",
    "               vmax=9)\n",
    "    plt.gca().set_aspect('equal')\n",
    "    plt.yticks([])\n",
    "    plt.xticks([])\n",
    "    plt.tight_layout()\n",
    "\n",
    "for k,v in ARC_DATA['ARC-AGI-1'].evaluation.items():\n",
    "    len_train = len(v.train)\n",
    "    for i,v2 in enumerate(v.train):\n",
    "        plt.subplot(len_train,2,i*2+1)\n",
    "        plotgrid(v2.input)\n",
    "        plt.subplot(len_train,2,i*2+2)\n",
    "        plotgrid(v2.output)\n",
    "    plt.show()\n",
    "    for v2 in v.test:\n",
    "        plt.subplot(1,2,1)\n",
    "        plotgrid(v2.input)\n",
    "        plt.subplot(1,2,2)\n",
    "        plotgrid(v2.output)\n",
    "        plt.show()\n",
    "    break\n",
    "\n"
   ],
   "outputs": [
    {
     "data": {
      "text/plain": [
       "<Figure size 640x480 with 4 Axes>"
      ],
      "image/png": "[encoded data removed]"
     },
     "metadata": {},
     "output_type": "display_data"
    },
    {
     "data": {
      "text/plain": [
       "<Figure size 640x480 with 2 Axes>"
      ],
      "image/png": "[encoded data removed]"
     },
     "metadata": {},
     "output_type": "display_data"
    }
   ],
   "execution_count": 28
  }
 ],
 "metadata": {
  "kernelspec": {
   "display_name": "Python 3 (ipykernel)",
   "language": "python",
   "name": "python3"
  },
  "language_info": {
   "codemirror_mode": {
    "name": "ipython",
    "version": 3
   },
   "file_extension": ".py",
   "mimetype": "text/x-python",
   "name": "python",
   "nbconvert_exporter": "python",
   "pygments_lexer": "ipython3",
   "version": "3.11.9"
  }
 },
 "nbformat": 4,
 "nbformat_minor": 5
}
