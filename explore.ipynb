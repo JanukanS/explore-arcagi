{
 "cells": [
  {
   "cell_type": "markdown",
   "id": "498f602472db664d",
   "metadata": {},
   "source": [
    "# Imports"
   ]
  },
  {
   "cell_type": "code",
   "id": "b75d6144eb4ada26",
   "metadata": {
    "ExecuteTime": {
     "end_time": "2025-03-28T01:49:38.246162Z",
     "start_time": "2025-03-28T01:49:38.220931Z"
    }
   },
   "source": [
    "import requests\n",
    "from zipfile import ZipFile\n",
    "from io import BytesIO\n",
    "import fnmatch\n",
    "import json\n",
    "from typing import Mapping,List, Dict, Any\n",
    "from pathlib import Path\n",
    "from pprint import pprint\n",
    "import numpy as np\n",
    "from dataclasses import dataclass\n",
    "import matplotlib.pyplot as plt\n",
    "from matplotlib.colors import ListedColormap\n",
    "import ipywidgets as widgets\n",
    "from collections import UserDict"
   ],
   "outputs": [],
   "execution_count": 15
  },
  {
   "metadata": {},
   "cell_type": "markdown",
   "source": "# Plot Colour Scheme",
   "id": "4b1380c919f6a6c4"
  },
  {
   "cell_type": "code",
   "id": "b7c14ebef9cd174f",
   "metadata": {
    "ExecuteTime": {
     "end_time": "2025-03-28T01:45:27.929145Z",
     "start_time": "2025-03-28T01:45:27.914014Z"
    }
   },
   "source": [
    "arcagi_colours = ['#000000',\n",
    "                  '#1e93ff',\n",
    "                  '#F93C31',#'#[1,0.2549019607843137,0.21176470588235294,1], # 2 - Red: #F93C31\n",
    "                  '#4fcc30', # 3 - Green: #2ECC40\n",
    "                  '#ffdc00', # 4 - Yellow: #FFDC00\n",
    "                  '#999999', # 5 - Gray:  #AAAAAA\n",
    "                  '#e53aa3', # 6 - Fuschia: #F012BE\n",
    "                  '#ff851b', # 7 - Orange: #FF851B\n",
    "                  '#87d8f1', # 8 - Teal: #7FDBFF;\n",
    "                  '#921231'] # 9 - Brown: #870C25\n",
    "arcaci_colormap = ListedColormap(arcagi_colours)\n"
   ],
   "outputs": [],
   "execution_count": 10
  },
  {
   "metadata": {},
   "cell_type": "markdown",
   "source": "# Data Structures",
   "id": "921ae74ef7357ebd"
  },
  {
   "cell_type": "code",
   "id": "5f1fe7347531350b",
   "metadata": {
    "ExecuteTime": {
     "end_time": "2025-03-28T01:54:27.341302Z",
     "start_time": "2025-03-28T01:54:27.298279Z"
    }
   },
   "source": [
    "@dataclass\n",
    "class TaskGridPair:\n",
    "    input: np.array\n",
    "    output: np.array\n",
    "\n",
    "    @classmethod\n",
    "    def from_dict(cls, d):\n",
    "        return TaskGridPair(np.asarray(d[\"input\"]),\n",
    "                          np.asarray(d[\"output\"]))\n",
    "\n",
    "    def __repr__(self):\n",
    "        return f\"TaskPair[Input: {self.input.shape} -> Output: {self.output.shape}]\"\n",
    "\n",
    "    def display(self, title=None):\n",
    "        fig, (ax1, ax2) = plt.subplots(nrows=1, ncols=2)\n",
    "        self._plot_grid(self.input, title=\"Input\",ax=ax1)\n",
    "        self._plot_grid(self.output, title=\"Output\",ax=ax2)\n",
    "        if title:\n",
    "            fig.suptitle(title)\n",
    "        fig.show(warn=False)\n",
    "\n",
    "    @staticmethod\n",
    "    def _plot_grid(grid, title=None,ax = None):\n",
    "        ax = ax or plt.gca()\n",
    "\n",
    "        plt.style.use('dark_background')\n",
    "        ax.pcolor(grid.T,\n",
    "                   edgecolors='grey',\n",
    "                   linewidths=2,\n",
    "                   cmap=arcaci_colormap,\n",
    "                   vmin=0,\n",
    "                   vmax=9)\n",
    "        ax.set_aspect('equal')\n",
    "        if title:\n",
    "            ax.set_title(title)\n",
    "        ax.set_yticks([])\n",
    "        ax.set_xticks([])\n",
    "\n",
    "@dataclass\n",
    "class Task:\n",
    "    id: str\n",
    "    train: List[TaskGridPair]\n",
    "    test: List[TaskGridPair]\n",
    "\n",
    "    @classmethod\n",
    "    def from_dict(cls, id,d):\n",
    "        return Task(id,\n",
    "                    cls._process_caselist(d[\"train\"]),\n",
    "                    cls._process_caselist(d[\"test\"]))\n",
    "\n",
    "    @staticmethod\n",
    "    def _process_caselist(case_list):\n",
    "        return [TaskGridPair.from_dict(case_dict) for case_dict in case_list]\n",
    "\n",
    "    def __repr__(self):\n",
    "        return f\"Task[Training: {len(self.train)} -> Test: {len(self.test)}]\"\n",
    "\n",
    "    def display(self):\n",
    "        for i,v2 in enumerate(self.train):\n",
    "            v2.display(f\"{v.id} Train[{i}]\")\n",
    "            plt.show()\n",
    "        for i, v2 in enumerate(self.test):\n",
    "            v2.display(f\"{v.id} Test[{i}]\")\n",
    "            plt.show()\n",
    "\n",
    "@dataclass\n",
    "class TaskSet:\n",
    "    label: str\n",
    "    training: Dict[str, Task]\n",
    "    evaluation: Dict[str, Task]\n",
    "\n",
    "    @classmethod\n",
    "    def _glob_to_dict(cls, glob_name, zipfile):\n",
    "        filelist = fnmatch.filter(zipfile.namelist(), glob_name)\n",
    "        task_gen = lambda id,fn: Task.from_dict(id,json.load(zipfile.open(fn)))\n",
    "        return {Path(fn).stem: task_gen(Path(fn).stem,fn) for fn in filelist}\n",
    "\n",
    "    @classmethod\n",
    "    def from_zipfile(cls, label: str, zipfile: ZipFile):\n",
    "        return TaskSet(label,\n",
    "                       cls._glob_to_dict(\"*/data/training/*.json\", zipfile),\n",
    "                       cls._glob_to_dict(\"*/data/evaluation/*.json\", zipfile))\n",
    "\n",
    "    @staticmethod\n",
    "    def _display_dict(task_dict: Mapping[str, Task]) -> None:\n",
    "        key_list = list(task_dict.keys())\n",
    "        options=widgets.Dropdown(options=key_list,value=key_list[0],description='ID')\n",
    "        return widgets.interactive(lambda x: task_dict[x].display(),x = options)\n",
    "\n",
    "    def display(self):\n",
    "        tab_nest = widgets.Tab()\n",
    "        tab_nest.children = [self._display_dict(self.training),\n",
    "                             self._display_dict(self.evaluation)]\n",
    "        tab_nest.titles = ('Training', 'Evaluation')\n",
    "        return tab_nest\n",
    "\n",
    "class ARCSet(UserDict):\n",
    "    @classmethod\n",
    "    def from_links(cls, link_dict):\n",
    "        arc_set = cls()\n",
    "        for name, link in link_dict.items():\n",
    "            zip_data = get_zip(link)\n",
    "            arc_set.data[name] = TaskSet.from_zipfile(name, zip_data)\n",
    "        return arc_set\n",
    "\n",
    "    @staticmethod\n",
    "    def get_zip(link: str) -> ZipFile:\n",
    "        response = requests.get(link)\n",
    "        return ZipFile(BytesIO(response.content))\n",
    "\n",
    "    def display(self):\n",
    "        tab_nest = widgets.Tab()\n",
    "        tab_nest.children = [i.display() for _, i in self.items()]\n",
    "        tab_nest.titles = [k for k in self.keys()]\n",
    "        display(tab_nest)\n"
   ],
   "outputs": [],
   "execution_count": 18
  },
  {
   "metadata": {},
   "cell_type": "markdown",
   "source": "# ARC Data Viewer",
   "id": "53e2f648f13a2962"
  },
  {
   "cell_type": "code",
   "id": "d7390e24c9c6c2d0",
   "metadata": {
    "ExecuteTime": {
     "end_time": "2025-03-28T01:54:43.324235Z",
     "start_time": "2025-03-28T01:54:38.418788Z"
    }
   },
   "source": [
    "ARC_LINKS = {'ARC-AGI-1': \"https://github.com/fchollet/ARC-AGI/archive/refs/heads/master.zip\",\n",
    "             'ARC-AGI-2': \"https://github.com/arcprize/ARC-AGI-2/archive/refs/heads/main.zip\"}\n",
    "ARC_DATA = ARCSet.from_links(ARC_LINKS)\n",
    "ARC_DATA.display()"
   ],
   "outputs": [
    {
     "data": {
      "text/plain": [
       "Tab(children=(Tab(children=(interactive(children=(Dropdown(description='ID', options=('007bbfb7', '00d62c1b', …"
      ],
      "application/vnd.jupyter.widget-view+json": {
       "version_major": 2,
       "version_minor": 0,
       "model_id": "a941618da466480b8028cc8ebe486c95"
      }
     },
     "metadata": {},
     "output_type": "display_data"
    }
   ],
   "execution_count": 19
  }
 ],
 "metadata": {
  "kernelspec": {
   "display_name": "Python 3 (ipykernel)",
   "language": "python",
   "name": "python3"
  },
  "language_info": {
   "codemirror_mode": {
    "name": "ipython",
    "version": 3
   },
   "file_extension": ".py",
   "mimetype": "text/x-python",
   "name": "python",
   "nbconvert_exporter": "python",
   "pygments_lexer": "ipython3",
   "version": "3.11.9"
  }
 },
 "nbformat": 4,
 "nbformat_minor": 5
}
