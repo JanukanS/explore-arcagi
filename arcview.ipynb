{
 "cells": [
  {
   "cell_type": "markdown",
   "id": "498f602472db664d",
   "metadata": {},
   "source": [
    "# Imports"
   ]
  },
  {
   "cell_type": "code",
   "id": "b75d6144eb4ada26",
   "metadata": {
    "ExecuteTime": {
     "end_time": "2025-03-28T02:23:09.929020Z",
     "start_time": "2025-03-28T02:23:05.154904Z"
    }
   },
   "source": "from arcexplore import *",
   "outputs": [],
   "execution_count": 1
  },
  {
   "metadata": {},
   "cell_type": "markdown",
   "source": "# ARC Data Viewer",
   "id": "53e2f648f13a2962"
  },
  {
   "metadata": {
    "ExecuteTime": {
     "end_time": "2025-03-28T02:23:12.640173Z",
     "start_time": "2025-03-28T02:23:12.587420Z"
    }
   },
   "cell_type": "code",
   "source": "ARC_DATA.display()",
   "id": "83988261e664228a",
   "outputs": [
    {
     "data": {
      "text/plain": [
       "Tab(children=(Tab(children=(interactive(children=(Dropdown(description='ID', options=('007bbfb7', '00d62c1b', …"
      ],
      "application/vnd.jupyter.widget-view+json": {
       "version_major": 2,
       "version_minor": 0,
       "model_id": "76f2b14d6b3e45ff8ed665e169b2744e"
      }
     },
     "metadata": {},
     "output_type": "display_data"
    }
   ],
   "execution_count": 2
  }
 ],
 "metadata": {
  "kernelspec": {
   "display_name": "Python 3 (ipykernel)",
   "language": "python",
   "name": "python3"
  },
  "language_info": {
   "codemirror_mode": {
    "name": "ipython",
    "version": 3
   },
   "file_extension": ".py",
   "mimetype": "text/x-python",
   "name": "python",
   "nbconvert_exporter": "python",
   "pygments_lexer": "ipython3",
   "version": "3.11.9"
  }
 },
 "nbformat": 4,
 "nbformat_minor": 5
}
