{
 "cells": [
  {
   "cell_type": "code",
   "id": "initial_id",
   "metadata": {
    "collapsed": true,
    "ExecuteTime": {
     "end_time": "2025-03-29T04:58:10.153589Z",
     "start_time": "2025-03-29T04:58:10.144520Z"
    }
   },
   "source": [
    "from arcexplore import *\n",
    "import polars as pl"
   ],
   "outputs": [],
   "execution_count": 35
  },
  {
   "metadata": {},
   "cell_type": "markdown",
   "source": "# Creation of Input/Output complete Dataframe",
   "id": "ab8482b6aa64a9ff"
  },
  {
   "metadata": {
    "ExecuteTime": {
     "end_time": "2025-03-29T04:58:10.254647Z",
     "start_time": "2025-03-29T04:58:10.153589Z"
    }
   },
   "cell_type": "code",
   "source": [
    "rows = [(k,d,id,tt,i,it.input.shape, it.output.shape) for k,d,id,tt,i,it in ARC_DATA.data_iter()]\n",
    "complete_scheme = (\"Source\", \"Set Type\",\"ID\",\"Task Type\",\"Index\",\"Input Shape\",\"Output Shape\")\n",
    "complete_frame = pl.DataFrame(rows,\n",
    "                              schema = complete_scheme,\n",
    "                              orient=\"row\")\n",
    "display(complete_frame)"
   ],
   "id": "33392a9a4e531c68",
   "outputs": [
    {
     "data": {
      "text/plain": [
       "shape: (8_337, 7)\n",
       "┌───────────┬────────────┬──────────┬───────────┬───────┬─────────────┬──────────────┐\n",
       "│ Source    ┆ Set Type   ┆ ID       ┆ Task Type ┆ Index ┆ Input Shape ┆ Output Shape │\n",
       "│ ---       ┆ ---        ┆ ---      ┆ ---       ┆ ---   ┆ ---         ┆ ---          │\n",
       "│ str       ┆ str        ┆ str      ┆ str       ┆ i64   ┆ list[i64]   ┆ list[i64]    │\n",
       "╞═══════════╪════════════╪══════════╪═══════════╪═══════╪═════════════╪══════════════╡\n",
       "│ ARC-AGI-1 ┆ training   ┆ 007bbfb7 ┆ train     ┆ 0     ┆ [3, 3]      ┆ [9, 9]       │\n",
       "│ ARC-AGI-1 ┆ training   ┆ 007bbfb7 ┆ train     ┆ 1     ┆ [3, 3]      ┆ [9, 9]       │\n",
       "│ ARC-AGI-1 ┆ training   ┆ 007bbfb7 ┆ train     ┆ 2     ┆ [3, 3]      ┆ [9, 9]       │\n",
       "│ ARC-AGI-1 ┆ training   ┆ 007bbfb7 ┆ train     ┆ 3     ┆ [3, 3]      ┆ [9, 9]       │\n",
       "│ ARC-AGI-1 ┆ training   ┆ 007bbfb7 ┆ train     ┆ 4     ┆ [3, 3]      ┆ [9, 9]       │\n",
       "│ …         ┆ …          ┆ …        ┆ …         ┆ …     ┆ …           ┆ …            │\n",
       "│ ARC-AGI-2 ┆ evaluation ┆ faa9f03d ┆ test      ┆ 1     ┆ [12, 12]    ┆ [12, 12]     │\n",
       "│ ARC-AGI-2 ┆ evaluation ┆ fc7cae8d ┆ train     ┆ 0     ┆ [22, 22]    ┆ [11, 15]     │\n",
       "│ ARC-AGI-2 ┆ evaluation ┆ fc7cae8d ┆ train     ┆ 1     ┆ [22, 22]    ┆ [10, 10]     │\n",
       "│ ARC-AGI-2 ┆ evaluation ┆ fc7cae8d ┆ train     ┆ 2     ┆ [22, 22]    ┆ [5, 5]       │\n",
       "│ ARC-AGI-2 ┆ evaluation ┆ fc7cae8d ┆ test      ┆ 0     ┆ [29, 29]    ┆ [20, 12]     │\n",
       "└───────────┴────────────┴──────────┴───────────┴───────┴─────────────┴──────────────┘"
      ],
      "text/html": [
       "<div><style>\n",
       ".dataframe > thead > tr,\n",
       ".dataframe > tbody > tr {\n",
       "  text-align: right;\n",
       "  white-space: pre-wrap;\n",
       "}\n",
       "</style>\n",
       "<small>shape: (8_337, 7)</small><table border=\"1\" class=\"dataframe\"><thead><tr><th>Source</th><th>Set Type</th><th>ID</th><th>Task Type</th><th>Index</th><th>Input Shape</th><th>Output Shape</th></tr><tr><td>str</td><td>str</td><td>str</td><td>str</td><td>i64</td><td>list[i64]</td><td>list[i64]</td></tr></thead><tbody><tr><td>&quot;ARC-AGI-1&quot;</td><td>&quot;training&quot;</td><td>&quot;007bbfb7&quot;</td><td>&quot;train&quot;</td><td>0</td><td>[3, 3]</td><td>[9, 9]</td></tr><tr><td>&quot;ARC-AGI-1&quot;</td><td>&quot;training&quot;</td><td>&quot;007bbfb7&quot;</td><td>&quot;train&quot;</td><td>1</td><td>[3, 3]</td><td>[9, 9]</td></tr><tr><td>&quot;ARC-AGI-1&quot;</td><td>&quot;training&quot;</td><td>&quot;007bbfb7&quot;</td><td>&quot;train&quot;</td><td>2</td><td>[3, 3]</td><td>[9, 9]</td></tr><tr><td>&quot;ARC-AGI-1&quot;</td><td>&quot;training&quot;</td><td>&quot;007bbfb7&quot;</td><td>&quot;train&quot;</td><td>3</td><td>[3, 3]</td><td>[9, 9]</td></tr><tr><td>&quot;ARC-AGI-1&quot;</td><td>&quot;training&quot;</td><td>&quot;007bbfb7&quot;</td><td>&quot;train&quot;</td><td>4</td><td>[3, 3]</td><td>[9, 9]</td></tr><tr><td>&hellip;</td><td>&hellip;</td><td>&hellip;</td><td>&hellip;</td><td>&hellip;</td><td>&hellip;</td><td>&hellip;</td></tr><tr><td>&quot;ARC-AGI-2&quot;</td><td>&quot;evaluation&quot;</td><td>&quot;faa9f03d&quot;</td><td>&quot;test&quot;</td><td>1</td><td>[12, 12]</td><td>[12, 12]</td></tr><tr><td>&quot;ARC-AGI-2&quot;</td><td>&quot;evaluation&quot;</td><td>&quot;fc7cae8d&quot;</td><td>&quot;train&quot;</td><td>0</td><td>[22, 22]</td><td>[11, 15]</td></tr><tr><td>&quot;ARC-AGI-2&quot;</td><td>&quot;evaluation&quot;</td><td>&quot;fc7cae8d&quot;</td><td>&quot;train&quot;</td><td>1</td><td>[22, 22]</td><td>[10, 10]</td></tr><tr><td>&quot;ARC-AGI-2&quot;</td><td>&quot;evaluation&quot;</td><td>&quot;fc7cae8d&quot;</td><td>&quot;train&quot;</td><td>2</td><td>[22, 22]</td><td>[5, 5]</td></tr><tr><td>&quot;ARC-AGI-2&quot;</td><td>&quot;evaluation&quot;</td><td>&quot;fc7cae8d&quot;</td><td>&quot;test&quot;</td><td>0</td><td>[29, 29]</td><td>[20, 12]</td></tr></tbody></table></div>"
      ]
     },
     "metadata": {},
     "output_type": "display_data"
    }
   ],
   "execution_count": 36
  },
  {
   "metadata": {},
   "cell_type": "markdown",
   "source": "# Counting Tasks",
   "id": "fdd611618fd1e03a"
  },
  {
   "metadata": {
    "ExecuteTime": {
     "end_time": "2025-03-29T04:58:10.270794Z",
     "start_time": "2025-03-29T04:58:10.263383Z"
    }
   },
   "cell_type": "code",
   "source": [
    "task_frame = complete_frame.drop((\"Task Type\",\"Index\",\"Input Shape\",\"Output Shape\")).unique()\n",
    "display(task_frame)"
   ],
   "id": "4a45a5959a70c68d",
   "outputs": [
    {
     "data": {
      "text/plain": [
       "shape: (1_920, 3)\n",
       "┌───────────┬────────────┬──────────┐\n",
       "│ Source    ┆ Set Type   ┆ ID       │\n",
       "│ ---       ┆ ---        ┆ ---      │\n",
       "│ str       ┆ str        ┆ str      │\n",
       "╞═══════════╪════════════╪══════════╡\n",
       "│ ARC-AGI-2 ┆ training   ┆ 7d18a6fb │\n",
       "│ ARC-AGI-1 ┆ training   ┆ 68b16354 │\n",
       "│ ARC-AGI-1 ┆ evaluation ┆ af24b4cc │\n",
       "│ ARC-AGI-2 ┆ training   ┆ 1e81d6f9 │\n",
       "│ ARC-AGI-2 ┆ training   ┆ 23581191 │\n",
       "│ …         ┆ …          ┆ …        │\n",
       "│ ARC-AGI-1 ┆ evaluation ┆ e760a62e │\n",
       "│ ARC-AGI-1 ┆ training   ┆ 6e19193c │\n",
       "│ ARC-AGI-2 ┆ training   ┆ 5792cb4d │\n",
       "│ ARC-AGI-1 ┆ evaluation ┆ c35c1b4c │\n",
       "│ ARC-AGI-2 ┆ training   ┆ cbded52d │\n",
       "└───────────┴────────────┴──────────┘"
      ],
      "text/html": [
       "<div><style>\n",
       ".dataframe > thead > tr,\n",
       ".dataframe > tbody > tr {\n",
       "  text-align: right;\n",
       "  white-space: pre-wrap;\n",
       "}\n",
       "</style>\n",
       "<small>shape: (1_920, 3)</small><table border=\"1\" class=\"dataframe\"><thead><tr><th>Source</th><th>Set Type</th><th>ID</th></tr><tr><td>str</td><td>str</td><td>str</td></tr></thead><tbody><tr><td>&quot;ARC-AGI-2&quot;</td><td>&quot;training&quot;</td><td>&quot;7d18a6fb&quot;</td></tr><tr><td>&quot;ARC-AGI-1&quot;</td><td>&quot;training&quot;</td><td>&quot;68b16354&quot;</td></tr><tr><td>&quot;ARC-AGI-1&quot;</td><td>&quot;evaluation&quot;</td><td>&quot;af24b4cc&quot;</td></tr><tr><td>&quot;ARC-AGI-2&quot;</td><td>&quot;training&quot;</td><td>&quot;1e81d6f9&quot;</td></tr><tr><td>&quot;ARC-AGI-2&quot;</td><td>&quot;training&quot;</td><td>&quot;23581191&quot;</td></tr><tr><td>&hellip;</td><td>&hellip;</td><td>&hellip;</td></tr><tr><td>&quot;ARC-AGI-1&quot;</td><td>&quot;evaluation&quot;</td><td>&quot;e760a62e&quot;</td></tr><tr><td>&quot;ARC-AGI-1&quot;</td><td>&quot;training&quot;</td><td>&quot;6e19193c&quot;</td></tr><tr><td>&quot;ARC-AGI-2&quot;</td><td>&quot;training&quot;</td><td>&quot;5792cb4d&quot;</td></tr><tr><td>&quot;ARC-AGI-1&quot;</td><td>&quot;evaluation&quot;</td><td>&quot;c35c1b4c&quot;</td></tr><tr><td>&quot;ARC-AGI-2&quot;</td><td>&quot;training&quot;</td><td>&quot;cbded52d&quot;</td></tr></tbody></table></div>"
      ]
     },
     "metadata": {},
     "output_type": "display_data"
    }
   ],
   "execution_count": 37
  },
  {
   "metadata": {
    "ExecuteTime": {
     "end_time": "2025-03-29T04:58:10.340584Z",
     "start_time": "2025-03-29T04:58:10.331058Z"
    }
   },
   "cell_type": "code",
   "source": [
    "group_cols = (\"Source\", \"Set Type\")\n",
    "\n",
    "for i in range(len(group_cols)):\n",
    "    fr = task_frame.group_by(group_cols[:len(group_cols)-i]).len(\"COUNT\")\n",
    "    display(fr)"
   ],
   "id": "29d27c6e2be7bd0e",
   "outputs": [
    {
     "data": {
      "text/plain": [
       "shape: (4, 3)\n",
       "┌───────────┬────────────┬───────┐\n",
       "│ Source    ┆ Set Type   ┆ COUNT │\n",
       "│ ---       ┆ ---        ┆ ---   │\n",
       "│ str       ┆ str        ┆ u32   │\n",
       "╞═══════════╪════════════╪═══════╡\n",
       "│ ARC-AGI-2 ┆ evaluation ┆ 120   │\n",
       "│ ARC-AGI-2 ┆ training   ┆ 1000  │\n",
       "│ ARC-AGI-1 ┆ evaluation ┆ 400   │\n",
       "│ ARC-AGI-1 ┆ training   ┆ 400   │\n",
       "└───────────┴────────────┴───────┘"
      ],
      "text/html": [
       "<div><style>\n",
       ".dataframe > thead > tr,\n",
       ".dataframe > tbody > tr {\n",
       "  text-align: right;\n",
       "  white-space: pre-wrap;\n",
       "}\n",
       "</style>\n",
       "<small>shape: (4, 3)</small><table border=\"1\" class=\"dataframe\"><thead><tr><th>Source</th><th>Set Type</th><th>COUNT</th></tr><tr><td>str</td><td>str</td><td>u32</td></tr></thead><tbody><tr><td>&quot;ARC-AGI-2&quot;</td><td>&quot;evaluation&quot;</td><td>120</td></tr><tr><td>&quot;ARC-AGI-2&quot;</td><td>&quot;training&quot;</td><td>1000</td></tr><tr><td>&quot;ARC-AGI-1&quot;</td><td>&quot;evaluation&quot;</td><td>400</td></tr><tr><td>&quot;ARC-AGI-1&quot;</td><td>&quot;training&quot;</td><td>400</td></tr></tbody></table></div>"
      ]
     },
     "metadata": {},
     "output_type": "display_data"
    },
    {
     "data": {
      "text/plain": [
       "shape: (2, 2)\n",
       "┌───────────┬───────┐\n",
       "│ Source    ┆ COUNT │\n",
       "│ ---       ┆ ---   │\n",
       "│ str       ┆ u32   │\n",
       "╞═══════════╪═══════╡\n",
       "│ ARC-AGI-2 ┆ 1120  │\n",
       "│ ARC-AGI-1 ┆ 800   │\n",
       "└───────────┴───────┘"
      ],
      "text/html": [
       "<div><style>\n",
       ".dataframe > thead > tr,\n",
       ".dataframe > tbody > tr {\n",
       "  text-align: right;\n",
       "  white-space: pre-wrap;\n",
       "}\n",
       "</style>\n",
       "<small>shape: (2, 2)</small><table border=\"1\" class=\"dataframe\"><thead><tr><th>Source</th><th>COUNT</th></tr><tr><td>str</td><td>u32</td></tr></thead><tbody><tr><td>&quot;ARC-AGI-2&quot;</td><td>1120</td></tr><tr><td>&quot;ARC-AGI-1&quot;</td><td>800</td></tr></tbody></table></div>"
      ]
     },
     "metadata": {},
     "output_type": "display_data"
    }
   ],
   "execution_count": 38
  },
  {
   "metadata": {},
   "cell_type": "markdown",
   "source": "# Counting Grid Pairs",
   "id": "67b797f92dd4f968"
  },
  {
   "metadata": {
    "ExecuteTime": {
     "end_time": "2025-03-29T04:58:40.609826Z",
     "start_time": "2025-03-29T04:58:40.598849Z"
    }
   },
   "cell_type": "code",
   "source": [
    "grid_frame = complete_frame.drop((\"Input Shape\",\"Output Shape\")).unique()\n",
    "display(grid_frame)"
   ],
   "id": "c61fe9fc303f32f",
   "outputs": [
    {
     "data": {
      "text/plain": [
       "shape: (8_337, 5)\n",
       "┌───────────┬────────────┬──────────┬───────────┬───────┐\n",
       "│ Source    ┆ Set Type   ┆ ID       ┆ Task Type ┆ Index │\n",
       "│ ---       ┆ ---        ┆ ---      ┆ ---       ┆ ---   │\n",
       "│ str       ┆ str        ┆ str      ┆ str       ┆ i64   │\n",
       "╞═══════════╪════════════╪══════════╪═══════════╪═══════╡\n",
       "│ ARC-AGI-2 ┆ training   ┆ a1570a43 ┆ train     ┆ 2     │\n",
       "│ ARC-AGI-2 ┆ training   ┆ c3e719e8 ┆ test      ┆ 0     │\n",
       "│ ARC-AGI-2 ┆ training   ┆ a834deea ┆ train     ┆ 2     │\n",
       "│ ARC-AGI-2 ┆ training   ┆ 7df24a62 ┆ train     ┆ 0     │\n",
       "│ ARC-AGI-2 ┆ training   ┆ 1c02dbbe ┆ train     ┆ 2     │\n",
       "│ …         ┆ …          ┆ …        ┆ …         ┆ …     │\n",
       "│ ARC-AGI-2 ┆ training   ┆ ac0a08a4 ┆ train     ┆ 1     │\n",
       "│ ARC-AGI-2 ┆ evaluation ┆ 4c416de3 ┆ test      ┆ 0     │\n",
       "│ ARC-AGI-2 ┆ evaluation ┆ dbff022c ┆ train     ┆ 1     │\n",
       "│ ARC-AGI-1 ┆ evaluation ┆ 310f3251 ┆ test      ┆ 0     │\n",
       "│ ARC-AGI-1 ┆ evaluation ┆ ca8f78db ┆ train     ┆ 1     │\n",
       "└───────────┴────────────┴──────────┴───────────┴───────┘"
      ],
      "text/html": [
       "<div><style>\n",
       ".dataframe > thead > tr,\n",
       ".dataframe > tbody > tr {\n",
       "  text-align: right;\n",
       "  white-space: pre-wrap;\n",
       "}\n",
       "</style>\n",
       "<small>shape: (8_337, 5)</small><table border=\"1\" class=\"dataframe\"><thead><tr><th>Source</th><th>Set Type</th><th>ID</th><th>Task Type</th><th>Index</th></tr><tr><td>str</td><td>str</td><td>str</td><td>str</td><td>i64</td></tr></thead><tbody><tr><td>&quot;ARC-AGI-2&quot;</td><td>&quot;training&quot;</td><td>&quot;a1570a43&quot;</td><td>&quot;train&quot;</td><td>2</td></tr><tr><td>&quot;ARC-AGI-2&quot;</td><td>&quot;training&quot;</td><td>&quot;c3e719e8&quot;</td><td>&quot;test&quot;</td><td>0</td></tr><tr><td>&quot;ARC-AGI-2&quot;</td><td>&quot;training&quot;</td><td>&quot;a834deea&quot;</td><td>&quot;train&quot;</td><td>2</td></tr><tr><td>&quot;ARC-AGI-2&quot;</td><td>&quot;training&quot;</td><td>&quot;7df24a62&quot;</td><td>&quot;train&quot;</td><td>0</td></tr><tr><td>&quot;ARC-AGI-2&quot;</td><td>&quot;training&quot;</td><td>&quot;1c02dbbe&quot;</td><td>&quot;train&quot;</td><td>2</td></tr><tr><td>&hellip;</td><td>&hellip;</td><td>&hellip;</td><td>&hellip;</td><td>&hellip;</td></tr><tr><td>&quot;ARC-AGI-2&quot;</td><td>&quot;training&quot;</td><td>&quot;ac0a08a4&quot;</td><td>&quot;train&quot;</td><td>1</td></tr><tr><td>&quot;ARC-AGI-2&quot;</td><td>&quot;evaluation&quot;</td><td>&quot;4c416de3&quot;</td><td>&quot;test&quot;</td><td>0</td></tr><tr><td>&quot;ARC-AGI-2&quot;</td><td>&quot;evaluation&quot;</td><td>&quot;dbff022c&quot;</td><td>&quot;train&quot;</td><td>1</td></tr><tr><td>&quot;ARC-AGI-1&quot;</td><td>&quot;evaluation&quot;</td><td>&quot;310f3251&quot;</td><td>&quot;test&quot;</td><td>0</td></tr><tr><td>&quot;ARC-AGI-1&quot;</td><td>&quot;evaluation&quot;</td><td>&quot;ca8f78db&quot;</td><td>&quot;train&quot;</td><td>1</td></tr></tbody></table></div>"
      ]
     },
     "metadata": {},
     "output_type": "display_data"
    }
   ],
   "execution_count": 40
  },
  {
   "metadata": {
    "ExecuteTime": {
     "end_time": "2025-03-29T05:02:35.583353Z",
     "start_time": "2025-03-29T05:02:35.558425Z"
    }
   },
   "cell_type": "code",
   "source": [
    "group_cols = (\"Source\", \"Set Type\",\"ID\",\"Task Type\")\n",
    "for i in range(len(group_cols)):\n",
    "    fr = grid_frame.group_by(group_cols[:len(group_cols)-i]).len(\"COUNT\")\n",
    "    display(fr)"
   ],
   "id": "5a2bcc9e7c364b09",
   "outputs": [
    {
     "data": {
      "text/plain": [
       "shape: (3_840, 5)\n",
       "┌───────────┬────────────┬──────────┬───────────┬───────┐\n",
       "│ Source    ┆ Set Type   ┆ ID       ┆ Task Type ┆ COUNT │\n",
       "│ ---       ┆ ---        ┆ ---      ┆ ---       ┆ ---   │\n",
       "│ str       ┆ str        ┆ str      ┆ str       ┆ u32   │\n",
       "╞═══════════╪════════════╪══════════╪═══════════╪═══════╡\n",
       "│ ARC-AGI-1 ┆ training   ┆ 95990924 ┆ train     ┆ 3     │\n",
       "│ ARC-AGI-2 ┆ training   ┆ d06dbe63 ┆ test      ┆ 1     │\n",
       "│ ARC-AGI-1 ┆ evaluation ┆ 13713586 ┆ test      ┆ 1     │\n",
       "│ ARC-AGI-2 ┆ evaluation ┆ 898e7135 ┆ train     ┆ 2     │\n",
       "│ ARC-AGI-1 ┆ training   ┆ 760b3cac ┆ train     ┆ 3     │\n",
       "│ …         ┆ …          ┆ …        ┆ …         ┆ …     │\n",
       "│ ARC-AGI-2 ┆ training   ┆ c48954c1 ┆ train     ┆ 3     │\n",
       "│ ARC-AGI-2 ┆ training   ┆ e99362f0 ┆ test      ┆ 1     │\n",
       "│ ARC-AGI-2 ┆ training   ┆ 264363fd ┆ test      ┆ 1     │\n",
       "│ ARC-AGI-2 ┆ evaluation ┆ a25697e4 ┆ test      ┆ 2     │\n",
       "│ ARC-AGI-1 ┆ evaluation ┆ e69241bd ┆ train     ┆ 3     │\n",
       "└───────────┴────────────┴──────────┴───────────┴───────┘"
      ],
      "text/html": [
       "<div><style>\n",
       ".dataframe > thead > tr,\n",
       ".dataframe > tbody > tr {\n",
       "  text-align: right;\n",
       "  white-space: pre-wrap;\n",
       "}\n",
       "</style>\n",
       "<small>shape: (3_840, 5)</small><table border=\"1\" class=\"dataframe\"><thead><tr><th>Source</th><th>Set Type</th><th>ID</th><th>Task Type</th><th>COUNT</th></tr><tr><td>str</td><td>str</td><td>str</td><td>str</td><td>u32</td></tr></thead><tbody><tr><td>&quot;ARC-AGI-1&quot;</td><td>&quot;training&quot;</td><td>&quot;95990924&quot;</td><td>&quot;train&quot;</td><td>3</td></tr><tr><td>&quot;ARC-AGI-2&quot;</td><td>&quot;training&quot;</td><td>&quot;d06dbe63&quot;</td><td>&quot;test&quot;</td><td>1</td></tr><tr><td>&quot;ARC-AGI-1&quot;</td><td>&quot;evaluation&quot;</td><td>&quot;13713586&quot;</td><td>&quot;test&quot;</td><td>1</td></tr><tr><td>&quot;ARC-AGI-2&quot;</td><td>&quot;evaluation&quot;</td><td>&quot;898e7135&quot;</td><td>&quot;train&quot;</td><td>2</td></tr><tr><td>&quot;ARC-AGI-1&quot;</td><td>&quot;training&quot;</td><td>&quot;760b3cac&quot;</td><td>&quot;train&quot;</td><td>3</td></tr><tr><td>&hellip;</td><td>&hellip;</td><td>&hellip;</td><td>&hellip;</td><td>&hellip;</td></tr><tr><td>&quot;ARC-AGI-2&quot;</td><td>&quot;training&quot;</td><td>&quot;c48954c1&quot;</td><td>&quot;train&quot;</td><td>3</td></tr><tr><td>&quot;ARC-AGI-2&quot;</td><td>&quot;training&quot;</td><td>&quot;e99362f0&quot;</td><td>&quot;test&quot;</td><td>1</td></tr><tr><td>&quot;ARC-AGI-2&quot;</td><td>&quot;training&quot;</td><td>&quot;264363fd&quot;</td><td>&quot;test&quot;</td><td>1</td></tr><tr><td>&quot;ARC-AGI-2&quot;</td><td>&quot;evaluation&quot;</td><td>&quot;a25697e4&quot;</td><td>&quot;test&quot;</td><td>2</td></tr><tr><td>&quot;ARC-AGI-1&quot;</td><td>&quot;evaluation&quot;</td><td>&quot;e69241bd&quot;</td><td>&quot;train&quot;</td><td>3</td></tr></tbody></table></div>"
      ]
     },
     "metadata": {},
     "output_type": "display_data"
    },
    {
     "data": {
      "text/plain": [
       "shape: (1_920, 4)\n",
       "┌───────────┬────────────┬──────────┬───────┐\n",
       "│ Source    ┆ Set Type   ┆ ID       ┆ COUNT │\n",
       "│ ---       ┆ ---        ┆ ---      ┆ ---   │\n",
       "│ str       ┆ str        ┆ str      ┆ u32   │\n",
       "╞═══════════╪════════════╪══════════╪═══════╡\n",
       "│ ARC-AGI-2 ┆ training   ┆ bbc9ae5d ┆ 6     │\n",
       "│ ARC-AGI-2 ┆ training   ┆ 2dd70a9a ┆ 4     │\n",
       "│ ARC-AGI-1 ┆ training   ┆ d631b094 ┆ 5     │\n",
       "│ ARC-AGI-2 ┆ training   ┆ 21f83797 ┆ 3     │\n",
       "│ ARC-AGI-2 ┆ training   ┆ 7e0986d6 ┆ 3     │\n",
       "│ …         ┆ …          ┆ …        ┆ …     │\n",
       "│ ARC-AGI-1 ┆ evaluation ┆ 60a26a3e ┆ 4     │\n",
       "│ ARC-AGI-2 ┆ training   ┆ b25e450b ┆ 4     │\n",
       "│ ARC-AGI-2 ┆ training   ┆ e2092e0c ┆ 4     │\n",
       "│ ARC-AGI-2 ┆ training   ┆ 3aa6fb7a ┆ 3     │\n",
       "│ ARC-AGI-1 ┆ training   ┆ 3e980e27 ┆ 5     │\n",
       "└───────────┴────────────┴──────────┴───────┘"
      ],
      "text/html": [
       "<div><style>\n",
       ".dataframe > thead > tr,\n",
       ".dataframe > tbody > tr {\n",
       "  text-align: right;\n",
       "  white-space: pre-wrap;\n",
       "}\n",
       "</style>\n",
       "<small>shape: (1_920, 4)</small><table border=\"1\" class=\"dataframe\"><thead><tr><th>Source</th><th>Set Type</th><th>ID</th><th>COUNT</th></tr><tr><td>str</td><td>str</td><td>str</td><td>u32</td></tr></thead><tbody><tr><td>&quot;ARC-AGI-2&quot;</td><td>&quot;training&quot;</td><td>&quot;bbc9ae5d&quot;</td><td>6</td></tr><tr><td>&quot;ARC-AGI-2&quot;</td><td>&quot;training&quot;</td><td>&quot;2dd70a9a&quot;</td><td>4</td></tr><tr><td>&quot;ARC-AGI-1&quot;</td><td>&quot;training&quot;</td><td>&quot;d631b094&quot;</td><td>5</td></tr><tr><td>&quot;ARC-AGI-2&quot;</td><td>&quot;training&quot;</td><td>&quot;21f83797&quot;</td><td>3</td></tr><tr><td>&quot;ARC-AGI-2&quot;</td><td>&quot;training&quot;</td><td>&quot;7e0986d6&quot;</td><td>3</td></tr><tr><td>&hellip;</td><td>&hellip;</td><td>&hellip;</td><td>&hellip;</td></tr><tr><td>&quot;ARC-AGI-1&quot;</td><td>&quot;evaluation&quot;</td><td>&quot;60a26a3e&quot;</td><td>4</td></tr><tr><td>&quot;ARC-AGI-2&quot;</td><td>&quot;training&quot;</td><td>&quot;b25e450b&quot;</td><td>4</td></tr><tr><td>&quot;ARC-AGI-2&quot;</td><td>&quot;training&quot;</td><td>&quot;e2092e0c&quot;</td><td>4</td></tr><tr><td>&quot;ARC-AGI-2&quot;</td><td>&quot;training&quot;</td><td>&quot;3aa6fb7a&quot;</td><td>3</td></tr><tr><td>&quot;ARC-AGI-1&quot;</td><td>&quot;training&quot;</td><td>&quot;3e980e27&quot;</td><td>5</td></tr></tbody></table></div>"
      ]
     },
     "metadata": {},
     "output_type": "display_data"
    },
    {
     "data": {
      "text/plain": [
       "shape: (4, 3)\n",
       "┌───────────┬────────────┬───────┐\n",
       "│ Source    ┆ Set Type   ┆ COUNT │\n",
       "│ ---       ┆ ---        ┆ ---   │\n",
       "│ str       ┆ str        ┆ u32   │\n",
       "╞═══════════╪════════════╪═══════╡\n",
       "│ ARC-AGI-1 ┆ training   ┆ 1718  │\n",
       "│ ARC-AGI-1 ┆ evaluation ┆ 1782  │\n",
       "│ ARC-AGI-2 ┆ training   ┆ 4308  │\n",
       "│ ARC-AGI-2 ┆ evaluation ┆ 529   │\n",
       "└───────────┴────────────┴───────┘"
      ],
      "text/html": [
       "<div><style>\n",
       ".dataframe > thead > tr,\n",
       ".dataframe > tbody > tr {\n",
       "  text-align: right;\n",
       "  white-space: pre-wrap;\n",
       "}\n",
       "</style>\n",
       "<small>shape: (4, 3)</small><table border=\"1\" class=\"dataframe\"><thead><tr><th>Source</th><th>Set Type</th><th>COUNT</th></tr><tr><td>str</td><td>str</td><td>u32</td></tr></thead><tbody><tr><td>&quot;ARC-AGI-1&quot;</td><td>&quot;training&quot;</td><td>1718</td></tr><tr><td>&quot;ARC-AGI-1&quot;</td><td>&quot;evaluation&quot;</td><td>1782</td></tr><tr><td>&quot;ARC-AGI-2&quot;</td><td>&quot;training&quot;</td><td>4308</td></tr><tr><td>&quot;ARC-AGI-2&quot;</td><td>&quot;evaluation&quot;</td><td>529</td></tr></tbody></table></div>"
      ]
     },
     "metadata": {},
     "output_type": "display_data"
    },
    {
     "data": {
      "text/plain": [
       "shape: (2, 2)\n",
       "┌───────────┬───────┐\n",
       "│ Source    ┆ COUNT │\n",
       "│ ---       ┆ ---   │\n",
       "│ str       ┆ u32   │\n",
       "╞═══════════╪═══════╡\n",
       "│ ARC-AGI-2 ┆ 4837  │\n",
       "│ ARC-AGI-1 ┆ 3500  │\n",
       "└───────────┴───────┘"
      ],
      "text/html": [
       "<div><style>\n",
       ".dataframe > thead > tr,\n",
       ".dataframe > tbody > tr {\n",
       "  text-align: right;\n",
       "  white-space: pre-wrap;\n",
       "}\n",
       "</style>\n",
       "<small>shape: (2, 2)</small><table border=\"1\" class=\"dataframe\"><thead><tr><th>Source</th><th>COUNT</th></tr><tr><td>str</td><td>u32</td></tr></thead><tbody><tr><td>&quot;ARC-AGI-2&quot;</td><td>4837</td></tr><tr><td>&quot;ARC-AGI-1&quot;</td><td>3500</td></tr></tbody></table></div>"
      ]
     },
     "metadata": {},
     "output_type": "display_data"
    }
   ],
   "execution_count": 42
  },
  {
   "metadata": {},
   "cell_type": "markdown",
   "source": "# Counting Grid Cells",
   "id": "a368e1053e77b833"
  }
 ],
 "metadata": {
  "kernelspec": {
   "display_name": "Python 3",
   "language": "python",
   "name": "python3"
  },
  "language_info": {
   "codemirror_mode": {
    "name": "ipython",
    "version": 2
   },
   "file_extension": ".py",
   "mimetype": "text/x-python",
   "name": "python",
   "nbconvert_exporter": "python",
   "pygments_lexer": "ipython2",
   "version": "2.7.6"
  }
 },
 "nbformat": 4,
 "nbformat_minor": 5
}
