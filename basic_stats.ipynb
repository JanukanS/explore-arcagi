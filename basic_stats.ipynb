{
 "cells": [
  {
   "metadata": {},
   "cell_type": "markdown",
   "source": [
    "# Predicting the shape of the output grid\n",
    "In the ARC-AGI-1 and ARC-AGI-2 datasets, many output grid shapes can be predicted at test time based only on the shape of the train input/output grid pair."
   ],
   "id": "396c85dcfe56974f"
  },
  {
   "metadata": {
    "collapsed": true,
    "ExecuteTime": {
     "end_time": "2025-04-01T01:59:22.642394Z",
     "start_time": "2025-04-01T01:59:22.632107Z"
    }
   },
   "cell_type": "code",
   "outputs": [],
   "execution_count": 122,
   "source": [
    "from arcexplore import *\n",
    "import polars as pl"
   ],
   "id": "initial_id"
  },
  {
   "metadata": {},
   "cell_type": "markdown",
   "source": [
    "# Creation of Input/Output complete Dataframe\n",
    "Loading data from python iterator into a polars data frame. The grids will be saved as nested polars lists."
   ],
   "id": "ab8482b6aa64a9ff"
  },
  {
   "metadata": {
    "ExecuteTime": {
     "end_time": "2025-04-01T02:56:37.668541Z",
     "start_time": "2025-04-01T02:56:36.231623Z"
    }
   },
   "cell_type": "code",
   "source": [
    "rows = [(id,k,d,tt,it.input.tolist(), it.output.tolist()) for k,d,id,tt,_,it in ARC_DATA.data_iter()]\n",
    "complete_scheme = (\"ID\",\"Source\", \"Set Type\",\"Task Type\",\"Input\",\"Output\")\n",
    "Source = pl.Categorical([\"ARC-AGI-1\",\"ARC-AGI-2\"])\n",
    "SetType = pl.Categorical([\"training\",\"evaluation\"])\n",
    "TaskType = pl.Categorical([\"train\",\"test\"])\n",
    "complete_frame = pl.DataFrame(rows,\n",
    "                              schema = complete_scheme,\n",
    "                              schema_overrides = {\n",
    "                                  \"Source\": Source,\n",
    "                                  \"Set Type\": SetType,\n",
    "                                  \"Task Type\": TaskType,\n",
    "                                  \"Input\": pl.List(pl.List(pl.Int8)),\n",
    "                                  \"Output\": pl.List(pl.List(pl.Int8))\n",
    "                              },\n",
    "                              orient=\"row\")\n",
    "\n",
    "display(complete_frame)"
   ],
   "id": "33392a9a4e531c68",
   "outputs": [
    {
     "data": {
      "text/plain": [
       "shape: (8_337, 6)\n",
       "┌──────────┬───────────┬────────────┬───────────┬─────────────────────────┬────────────────────────┐\n",
       "│ ID       ┆ Source    ┆ Set Type   ┆ Task Type ┆ Input                   ┆ Output                 │\n",
       "│ ---      ┆ ---       ┆ ---        ┆ ---       ┆ ---                     ┆ ---                    │\n",
       "│ str      ┆ cat       ┆ cat        ┆ cat       ┆ list[list[i8]]          ┆ list[list[i8]]         │\n",
       "╞══════════╪═══════════╪════════════╪═══════════╪═════════════════════════╪════════════════════════╡\n",
       "│ 007bbfb7 ┆ ARC-AGI-1 ┆ training   ┆ train     ┆ [[0, 7, 7], [7, 7, 7],  ┆ [[0, 0, … 7], [0, 0, … │\n",
       "│          ┆           ┆            ┆           ┆ [0, 7, …                ┆ 7], … […               │\n",
       "│ 007bbfb7 ┆ ARC-AGI-1 ┆ training   ┆ train     ┆ [[4, 0, 4], [0, 0, 0],  ┆ [[4, 0, … 4], [0, 0, … │\n",
       "│          ┆           ┆            ┆           ┆ [0, 4, …                ┆ 0], … […               │\n",
       "│ 007bbfb7 ┆ ARC-AGI-1 ┆ training   ┆ train     ┆ [[0, 0, 0], [0, 0, 2],  ┆ [[0, 0, … 0], [0, 0, … │\n",
       "│          ┆           ┆            ┆           ┆ [2, 0, …                ┆ 0], … […               │\n",
       "│ 007bbfb7 ┆ ARC-AGI-1 ┆ training   ┆ train     ┆ [[6, 6, 0], [6, 0, 0],  ┆ [[6, 6, … 0], [6, 0, … │\n",
       "│          ┆           ┆            ┆           ┆ [0, 6, …                ┆ 0], … […               │\n",
       "│ 007bbfb7 ┆ ARC-AGI-1 ┆ training   ┆ train     ┆ [[2, 2, 2], [0, 0, 0],  ┆ [[2, 2, … 2], [0, 0, … │\n",
       "│          ┆           ┆            ┆           ┆ [0, 2, …                ┆ 0], … […               │\n",
       "│ …        ┆ …         ┆ …          ┆ …         ┆ …                       ┆ …                      │\n",
       "│ faa9f03d ┆ ARC-AGI-2 ┆ evaluation ┆ test      ┆ [[0, 0, … 0], [0, 0, …  ┆ [[0, 0, … 0], [0, 0, … │\n",
       "│          ┆           ┆            ┆           ┆ 0], … […                ┆ 0], … […               │\n",
       "│ fc7cae8d ┆ ARC-AGI-2 ┆ evaluation ┆ train     ┆ [[4, 4, … 4], [6, 0, …  ┆ [[1, 1, … 1], [1, 3, … │\n",
       "│          ┆           ┆            ┆           ┆ 5], … […                ┆ 1], … […               │\n",
       "│ fc7cae8d ┆ ARC-AGI-2 ┆ evaluation ┆ train     ┆ [[5, 5, … 1], [0, 0, …  ┆ [[2, 2, … 2], [2, 8, … │\n",
       "│          ┆           ┆            ┆           ┆ 1], … […                ┆ 2], … […               │\n",
       "│ fc7cae8d ┆ ARC-AGI-2 ┆ evaluation ┆ train     ┆ [[2, 0, … 5], [2, 2, …  ┆ [[8, 8, … 0], [8, 8, … │\n",
       "│          ┆           ┆            ┆           ┆ 0], … […                ┆ 8], … […               │\n",
       "│ fc7cae8d ┆ ARC-AGI-2 ┆ evaluation ┆ test      ┆ [[2, 2, … 2], [2, 0, …  ┆ [[4, 4, … 4], [7, 7, … │\n",
       "│          ┆           ┆            ┆           ┆ 2], … […                ┆ 4], … […               │\n",
       "└──────────┴───────────┴────────────┴───────────┴─────────────────────────┴────────────────────────┘"
      ],
      "text/html": [
       "<div><style>\n",
       ".dataframe > thead > tr,\n",
       ".dataframe > tbody > tr {\n",
       "  text-align: right;\n",
       "  white-space: pre-wrap;\n",
       "}\n",
       "</style>\n",
       "<small>shape: (8_337, 6)</small><table border=\"1\" class=\"dataframe\"><thead><tr><th>ID</th><th>Source</th><th>Set Type</th><th>Task Type</th><th>Input</th><th>Output</th></tr><tr><td>str</td><td>cat</td><td>cat</td><td>cat</td><td>list[list[i8]]</td><td>list[list[i8]]</td></tr></thead><tbody><tr><td>&quot;007bbfb7&quot;</td><td>&quot;ARC-AGI-1&quot;</td><td>&quot;training&quot;</td><td>&quot;train&quot;</td><td>[[0, 7, 7], [7, 7, 7], [0, 7, 7]]</td><td>[[0, 0, … 7], [0, 0, … 7], … [0, 0, … 7]]</td></tr><tr><td>&quot;007bbfb7&quot;</td><td>&quot;ARC-AGI-1&quot;</td><td>&quot;training&quot;</td><td>&quot;train&quot;</td><td>[[4, 0, 4], [0, 0, 0], [0, 4, 0]]</td><td>[[4, 0, … 4], [0, 0, … 0], … [0, 0, … 0]]</td></tr><tr><td>&quot;007bbfb7&quot;</td><td>&quot;ARC-AGI-1&quot;</td><td>&quot;training&quot;</td><td>&quot;train&quot;</td><td>[[0, 0, 0], [0, 0, 2], [2, 0, 2]]</td><td>[[0, 0, … 0], [0, 0, … 0], … [2, 0, … 2]]</td></tr><tr><td>&quot;007bbfb7&quot;</td><td>&quot;ARC-AGI-1&quot;</td><td>&quot;training&quot;</td><td>&quot;train&quot;</td><td>[[6, 6, 0], [6, 0, 0], [0, 6, 6]]</td><td>[[6, 6, … 0], [6, 0, … 0], … [0, 0, … 6]]</td></tr><tr><td>&quot;007bbfb7&quot;</td><td>&quot;ARC-AGI-1&quot;</td><td>&quot;training&quot;</td><td>&quot;train&quot;</td><td>[[2, 2, 2], [0, 0, 0], [0, 2, 2]]</td><td>[[2, 2, … 2], [0, 0, … 0], … [0, 0, … 2]]</td></tr><tr><td>&hellip;</td><td>&hellip;</td><td>&hellip;</td><td>&hellip;</td><td>&hellip;</td><td>&hellip;</td></tr><tr><td>&quot;faa9f03d&quot;</td><td>&quot;ARC-AGI-2&quot;</td><td>&quot;evaluation&quot;</td><td>&quot;test&quot;</td><td>[[0, 0, … 0], [0, 0, … 0], … [0, 0, … 0]]</td><td>[[0, 0, … 0], [0, 0, … 0], … [0, 0, … 0]]</td></tr><tr><td>&quot;fc7cae8d&quot;</td><td>&quot;ARC-AGI-2&quot;</td><td>&quot;evaluation&quot;</td><td>&quot;train&quot;</td><td>[[4, 4, … 4], [6, 0, … 5], … [6, 0, … 5]]</td><td>[[1, 1, … 1], [1, 3, … 1], … [1, 1, … 1]]</td></tr><tr><td>&quot;fc7cae8d&quot;</td><td>&quot;ARC-AGI-2&quot;</td><td>&quot;evaluation&quot;</td><td>&quot;train&quot;</td><td>[[5, 5, … 1], [0, 0, … 1], … [3, 3, … 3]]</td><td>[[2, 2, … 2], [2, 8, … 2], … [2, 2, … 2]]</td></tr><tr><td>&quot;fc7cae8d&quot;</td><td>&quot;ARC-AGI-2&quot;</td><td>&quot;evaluation&quot;</td><td>&quot;train&quot;</td><td>[[2, 0, … 5], [2, 2, … 0], … [4, 4, … 4]]</td><td>[[8, 8, … 0], [8, 8, … 8], … [8, 8, … 8]]</td></tr><tr><td>&quot;fc7cae8d&quot;</td><td>&quot;ARC-AGI-2&quot;</td><td>&quot;evaluation&quot;</td><td>&quot;test&quot;</td><td>[[2, 2, … 2], [2, 0, … 2], … [5, 0, … 3]]</td><td>[[4, 4, … 4], [7, 7, … 4], … [4, 4, … 4]]</td></tr></tbody></table></div>"
      ]
     },
     "metadata": {},
     "output_type": "display_data"
    }
   ],
   "execution_count": 176
  },
  {
   "metadata": {},
   "cell_type": "markdown",
   "source": [
    "# Creation of Shape Frame\n",
    "For this analysis, we are only concerned with the shapes of the input and output grids"
   ],
   "id": "faee3e195cb42d9"
  },
  {
   "metadata": {
    "ExecuteTime": {
     "end_time": "2025-04-01T01:59:24.535279Z",
     "start_time": "2025-04-01T01:59:24.516826Z"
    }
   },
   "cell_type": "code",
   "outputs": [
    {
     "data": {
      "text/plain": [
       "shape: (8_337, 8)\n",
       "┌──────────┬───────────┬────────────┬───────────┬───────┬─────────┬─────────────┬─────────┐\n",
       "│ ID       ┆ Source    ┆ Set Type   ┆ Task Type ┆ Input ┆ Input   ┆ Output Rows ┆ Output  │\n",
       "│ ---      ┆ ---       ┆ ---        ┆ ---       ┆ Rows  ┆ Columns ┆ ---         ┆ Columns │\n",
       "│ str      ┆ cat       ┆ cat        ┆ cat       ┆ ---   ┆ ---     ┆ u32         ┆ ---     │\n",
       "│          ┆           ┆            ┆           ┆ u32   ┆ u32     ┆             ┆ u32     │\n",
       "╞══════════╪═══════════╪════════════╪═══════════╪═══════╪═════════╪═════════════╪═════════╡\n",
       "│ 007bbfb7 ┆ ARC-AGI-1 ┆ training   ┆ train     ┆ 3     ┆ 3       ┆ 9           ┆ 9       │\n",
       "│ 007bbfb7 ┆ ARC-AGI-1 ┆ training   ┆ train     ┆ 3     ┆ 3       ┆ 9           ┆ 9       │\n",
       "│ 007bbfb7 ┆ ARC-AGI-1 ┆ training   ┆ train     ┆ 3     ┆ 3       ┆ 9           ┆ 9       │\n",
       "│ 007bbfb7 ┆ ARC-AGI-1 ┆ training   ┆ train     ┆ 3     ┆ 3       ┆ 9           ┆ 9       │\n",
       "│ 007bbfb7 ┆ ARC-AGI-1 ┆ training   ┆ train     ┆ 3     ┆ 3       ┆ 9           ┆ 9       │\n",
       "│ …        ┆ …         ┆ …          ┆ …         ┆ …     ┆ …       ┆ …           ┆ …       │\n",
       "│ faa9f03d ┆ ARC-AGI-2 ┆ evaluation ┆ test      ┆ 12    ┆ 12      ┆ 12          ┆ 12      │\n",
       "│ fc7cae8d ┆ ARC-AGI-2 ┆ evaluation ┆ train     ┆ 22    ┆ 22      ┆ 11          ┆ 15      │\n",
       "│ fc7cae8d ┆ ARC-AGI-2 ┆ evaluation ┆ train     ┆ 22    ┆ 22      ┆ 10          ┆ 10      │\n",
       "│ fc7cae8d ┆ ARC-AGI-2 ┆ evaluation ┆ train     ┆ 22    ┆ 22      ┆ 5           ┆ 5       │\n",
       "│ fc7cae8d ┆ ARC-AGI-2 ┆ evaluation ┆ test      ┆ 29    ┆ 29      ┆ 20          ┆ 12      │\n",
       "└──────────┴───────────┴────────────┴───────────┴───────┴─────────┴─────────────┴─────────┘"
      ],
      "text/html": [
       "<div><style>\n",
       ".dataframe > thead > tr,\n",
       ".dataframe > tbody > tr {\n",
       "  text-align: right;\n",
       "  white-space: pre-wrap;\n",
       "}\n",
       "</style>\n",
       "<small>shape: (8_337, 8)</small><table border=\"1\" class=\"dataframe\"><thead><tr><th>ID</th><th>Source</th><th>Set Type</th><th>Task Type</th><th>Input Rows</th><th>Input Columns</th><th>Output Rows</th><th>Output Columns</th></tr><tr><td>str</td><td>cat</td><td>cat</td><td>cat</td><td>u32</td><td>u32</td><td>u32</td><td>u32</td></tr></thead><tbody><tr><td>&quot;007bbfb7&quot;</td><td>&quot;ARC-AGI-1&quot;</td><td>&quot;training&quot;</td><td>&quot;train&quot;</td><td>3</td><td>3</td><td>9</td><td>9</td></tr><tr><td>&quot;007bbfb7&quot;</td><td>&quot;ARC-AGI-1&quot;</td><td>&quot;training&quot;</td><td>&quot;train&quot;</td><td>3</td><td>3</td><td>9</td><td>9</td></tr><tr><td>&quot;007bbfb7&quot;</td><td>&quot;ARC-AGI-1&quot;</td><td>&quot;training&quot;</td><td>&quot;train&quot;</td><td>3</td><td>3</td><td>9</td><td>9</td></tr><tr><td>&quot;007bbfb7&quot;</td><td>&quot;ARC-AGI-1&quot;</td><td>&quot;training&quot;</td><td>&quot;train&quot;</td><td>3</td><td>3</td><td>9</td><td>9</td></tr><tr><td>&quot;007bbfb7&quot;</td><td>&quot;ARC-AGI-1&quot;</td><td>&quot;training&quot;</td><td>&quot;train&quot;</td><td>3</td><td>3</td><td>9</td><td>9</td></tr><tr><td>&hellip;</td><td>&hellip;</td><td>&hellip;</td><td>&hellip;</td><td>&hellip;</td><td>&hellip;</td><td>&hellip;</td><td>&hellip;</td></tr><tr><td>&quot;faa9f03d&quot;</td><td>&quot;ARC-AGI-2&quot;</td><td>&quot;evaluation&quot;</td><td>&quot;test&quot;</td><td>12</td><td>12</td><td>12</td><td>12</td></tr><tr><td>&quot;fc7cae8d&quot;</td><td>&quot;ARC-AGI-2&quot;</td><td>&quot;evaluation&quot;</td><td>&quot;train&quot;</td><td>22</td><td>22</td><td>11</td><td>15</td></tr><tr><td>&quot;fc7cae8d&quot;</td><td>&quot;ARC-AGI-2&quot;</td><td>&quot;evaluation&quot;</td><td>&quot;train&quot;</td><td>22</td><td>22</td><td>10</td><td>10</td></tr><tr><td>&quot;fc7cae8d&quot;</td><td>&quot;ARC-AGI-2&quot;</td><td>&quot;evaluation&quot;</td><td>&quot;train&quot;</td><td>22</td><td>22</td><td>5</td><td>5</td></tr><tr><td>&quot;fc7cae8d&quot;</td><td>&quot;ARC-AGI-2&quot;</td><td>&quot;evaluation&quot;</td><td>&quot;test&quot;</td><td>29</td><td>29</td><td>20</td><td>12</td></tr></tbody></table></div>"
      ]
     },
     "metadata": {},
     "output_type": "display_data"
    }
   ],
   "execution_count": 124,
   "source": [
    "grid_shape_cols = (pl.col(\"Input\").list.len().alias(\"Input Rows\"),\n",
    "                   pl.col(\"Input\").list.get(0).list.len().alias(\"Input Columns\"),\n",
    "                   pl.col(\"Output\").list.len().alias(\"Output Rows\"),\n",
    "                   pl.col(\"Output\").list.get(0).list.len().alias(\"Output Columns\"))\n",
    "\n",
    "shape_frame = (complete_frame.\n",
    "               with_columns(*grid_shape_cols).\n",
    "               drop(\"Input\",\"Output\"))\n",
    "display(shape_frame)"
   ],
   "id": "db2b37337feab5cc"
  },
  {
   "metadata": {},
   "cell_type": "markdown",
   "source": [
    "# Shape Types\n",
    "There are different ways the output shape could depend on the input shape. Each of these categories can apply to the rows, columns or both\n",
    "- Fixed: This dimension is a fixed value $\\alpha$ for any case $$R_{out} = \\alpha$$ $$C_{out} = \\alpha$$"
   ],
   "id": "2b276d7c25eef0e5"
  },
  {
   "metadata": {
    "ExecuteTime": {
     "end_time": "2025-04-01T02:53:34.291009Z",
     "start_time": "2025-04-01T02:53:34.261068Z"
    }
   },
   "cell_type": "code",
   "source": [
    "rows_fixed = (pl.col(\"Output Rows\").n_unique() == 1).alias(\"Rows Fixed\")\n",
    "columns_fixed = (pl.col(\"Output Columns\").n_unique() == 1).alias(\"Columns Fixed\")\n",
    "\n",
    "single_same_factor_expr = lambda a,b: ((a-b*(a//b)).n_unique() == 1)\n",
    "same_factor_expr = lambda col1, col2: single_same_factor_expr(pl.col(col1),pl.col(col2)) | single_same_factor_expr(pl.col(col2),pl.col(col1)) | (pl.col(col1).n_unique() == 1)\n",
    "rows_divisible = same_factor_expr(\"Output Rows\", \"Input Rows\").alias(\"Rows Divisible\")\n",
    "rows_swapped = same_factor_expr(\"Output Rows\", \"Input Columns\").alias(\"Rows Swapped\")\n",
    "\n",
    "cols_divisible = same_factor_expr(\"Output Columns\", \"Input Columns\").alias(\"Columns Divisible\")\n",
    "columns_swapped = same_factor_expr(\"Output Columns\", \"Input Rows\").alias(\"Columns Swapped\")\n",
    "\n",
    "drop_cols = (\"Input Rows\", \"Output Rows\", \"Input Columns\", \"Output Columns\")\n",
    "\n",
    "shape_study_frame = (shape_frame.\n",
    "                     group_by(\"Source\", \"Set Type\", \"ID\")\n",
    "                     .agg(rows_fixed, rows_swapped,rows_divisible, columns_fixed, columns_swapped, cols_divisible))\n",
    "display(shape_study_frame)\n",
    "\n",
    "filter_col = lambda key: pl.col(key).filter(key).len()\n",
    "col_names = [\"Rows Fixed\", \"Rows Swapped\", \"Rows Divisible\",\n",
    "             \"Columns Fixed\",\"Columns Swapped\", \"Columns Divisible\"]\n",
    "\n",
    "shape_study_frame.group_by(\"Source\",\"Set Type\").agg(*[filter_col(n) for n in col_names],pl.col(\"ID\").len().alias(\"Total Tasks\"))"
   ],
   "id": "721b6078d2845324",
   "outputs": [
    {
     "data": {
      "text/plain": [
       "shape: (1_920, 9)\n",
       "┌───────────┬────────────┬──────────┬───────┬───┬────────────┬────────────┬────────────┬───────────┐\n",
       "│ Source    ┆ Set Type   ┆ ID       ┆ Rows  ┆ … ┆ Rows       ┆ Columns    ┆ Columns    ┆ Columns   │\n",
       "│ ---       ┆ ---        ┆ ---      ┆ Fixed ┆   ┆ Divisible  ┆ Fixed      ┆ Swapped    ┆ Divisible │\n",
       "│ cat       ┆ cat        ┆ str      ┆ ---   ┆   ┆ ---        ┆ ---        ┆ ---        ┆ ---       │\n",
       "│           ┆            ┆          ┆ bool  ┆   ┆ bool       ┆ bool       ┆ bool       ┆ bool      │\n",
       "╞═══════════╪════════════╪══════════╪═══════╪═══╪════════════╪════════════╪════════════╪═══════════╡\n",
       "│ ARC-AGI-2 ┆ training   ┆ 17b80ad2 ┆ false ┆ … ┆ true       ┆ false      ┆ true       ┆ true      │\n",
       "│ ARC-AGI-2 ┆ training   ┆ b60334d2 ┆ true  ┆ … ┆ true       ┆ true       ┆ true       ┆ true      │\n",
       "│ ARC-AGI-1 ┆ evaluation ┆ 59341089 ┆ true  ┆ … ┆ true       ┆ true       ┆ true       ┆ true      │\n",
       "│ ARC-AGI-2 ┆ training   ┆ 760b3cac ┆ true  ┆ … ┆ true       ┆ true       ┆ true       ┆ true      │\n",
       "│ ARC-AGI-1 ┆ training   ┆ e8dc4411 ┆ false ┆ … ┆ true       ┆ false      ┆ false      ┆ true      │\n",
       "│ …         ┆ …          ┆ …        ┆ …     ┆ … ┆ …          ┆ …          ┆ …          ┆ …         │\n",
       "│ ARC-AGI-1 ┆ evaluation ┆ 712bf12e ┆ false ┆ … ┆ true       ┆ false      ┆ false      ┆ true      │\n",
       "│ ARC-AGI-2 ┆ training   ┆ 9bebae7a ┆ false ┆ … ┆ true       ┆ false      ┆ false      ┆ true      │\n",
       "│ ARC-AGI-1 ┆ training   ┆ 8be77c9e ┆ true  ┆ … ┆ true       ┆ true       ┆ true       ┆ true      │\n",
       "│ ARC-AGI-1 ┆ training   ┆ b9b7f026 ┆ true  ┆ … ┆ true       ┆ true       ┆ true       ┆ true      │\n",
       "│ ARC-AGI-2 ┆ training   ┆ 4522001f ┆ true  ┆ … ┆ true       ┆ true       ┆ true       ┆ true      │\n",
       "└───────────┴────────────┴──────────┴───────┴───┴────────────┴────────────┴────────────┴───────────┘"
      ],
      "text/html": [
       "<div><style>\n",
       ".dataframe > thead > tr,\n",
       ".dataframe > tbody > tr {\n",
       "  text-align: right;\n",
       "  white-space: pre-wrap;\n",
       "}\n",
       "</style>\n",
       "<small>shape: (1_920, 9)</small><table border=\"1\" class=\"dataframe\"><thead><tr><th>Source</th><th>Set Type</th><th>ID</th><th>Rows Fixed</th><th>Rows Swapped</th><th>Rows Divisible</th><th>Columns Fixed</th><th>Columns Swapped</th><th>Columns Divisible</th></tr><tr><td>cat</td><td>cat</td><td>str</td><td>bool</td><td>bool</td><td>bool</td><td>bool</td><td>bool</td><td>bool</td></tr></thead><tbody><tr><td>&quot;ARC-AGI-2&quot;</td><td>&quot;training&quot;</td><td>&quot;17b80ad2&quot;</td><td>false</td><td>true</td><td>true</td><td>false</td><td>true</td><td>true</td></tr><tr><td>&quot;ARC-AGI-2&quot;</td><td>&quot;training&quot;</td><td>&quot;b60334d2&quot;</td><td>true</td><td>true</td><td>true</td><td>true</td><td>true</td><td>true</td></tr><tr><td>&quot;ARC-AGI-1&quot;</td><td>&quot;evaluation&quot;</td><td>&quot;59341089&quot;</td><td>true</td><td>true</td><td>true</td><td>true</td><td>true</td><td>true</td></tr><tr><td>&quot;ARC-AGI-2&quot;</td><td>&quot;training&quot;</td><td>&quot;760b3cac&quot;</td><td>true</td><td>true</td><td>true</td><td>true</td><td>true</td><td>true</td></tr><tr><td>&quot;ARC-AGI-1&quot;</td><td>&quot;training&quot;</td><td>&quot;e8dc4411&quot;</td><td>false</td><td>false</td><td>true</td><td>false</td><td>false</td><td>true</td></tr><tr><td>&hellip;</td><td>&hellip;</td><td>&hellip;</td><td>&hellip;</td><td>&hellip;</td><td>&hellip;</td><td>&hellip;</td><td>&hellip;</td><td>&hellip;</td></tr><tr><td>&quot;ARC-AGI-1&quot;</td><td>&quot;evaluation&quot;</td><td>&quot;712bf12e&quot;</td><td>false</td><td>false</td><td>true</td><td>false</td><td>false</td><td>true</td></tr><tr><td>&quot;ARC-AGI-2&quot;</td><td>&quot;training&quot;</td><td>&quot;9bebae7a&quot;</td><td>false</td><td>false</td><td>true</td><td>false</td><td>false</td><td>true</td></tr><tr><td>&quot;ARC-AGI-1&quot;</td><td>&quot;training&quot;</td><td>&quot;8be77c9e&quot;</td><td>true</td><td>true</td><td>true</td><td>true</td><td>true</td><td>true</td></tr><tr><td>&quot;ARC-AGI-1&quot;</td><td>&quot;training&quot;</td><td>&quot;b9b7f026&quot;</td><td>true</td><td>true</td><td>true</td><td>true</td><td>true</td><td>true</td></tr><tr><td>&quot;ARC-AGI-2&quot;</td><td>&quot;training&quot;</td><td>&quot;4522001f&quot;</td><td>true</td><td>true</td><td>true</td><td>true</td><td>true</td><td>true</td></tr></tbody></table></div>"
      ]
     },
     "metadata": {},
     "output_type": "display_data"
    },
    {
     "data": {
      "text/plain": [
       "shape: (4, 9)\n",
       "┌───────────┬────────────┬───────┬─────────┬───┬─────────┬─────────┬───────────┬───────┐\n",
       "│ Source    ┆ Set Type   ┆ Rows  ┆ Rows    ┆ … ┆ Columns ┆ Columns ┆ Columns   ┆ Total │\n",
       "│ ---       ┆ ---        ┆ Fixed ┆ Swapped ┆   ┆ Fixed   ┆ Swapped ┆ Divisible ┆ Tasks │\n",
       "│ cat       ┆ cat        ┆ ---   ┆ ---     ┆   ┆ ---     ┆ ---     ┆ ---       ┆ ---   │\n",
       "│           ┆            ┆ u32   ┆ u32     ┆   ┆ u32     ┆ u32     ┆ u32       ┆ u32   │\n",
       "╞═══════════╪════════════╪═══════╪═════════╪═══╪═════════╪═════════╪═══════════╪═══════╡\n",
       "│ ARC-AGI-1 ┆ evaluation ┆ 163   ┆ 219     ┆ … ┆ 166     ┆ 224     ┆ 359       ┆ 400   │\n",
       "│ ARC-AGI-2 ┆ evaluation ┆ 25    ┆ 49      ┆ … ┆ 30      ┆ 53      ┆ 89        ┆ 120   │\n",
       "│ ARC-AGI-2 ┆ training   ┆ 439   ┆ 615     ┆ … ┆ 430     ┆ 617     ┆ 886       ┆ 1000  │\n",
       "│ ARC-AGI-1 ┆ training   ┆ 216   ┆ 273     ┆ … ┆ 209     ┆ 274     ┆ 355       ┆ 400   │\n",
       "└───────────┴────────────┴───────┴─────────┴───┴─────────┴─────────┴───────────┴───────┘"
      ],
      "text/html": [
       "<div><style>\n",
       ".dataframe > thead > tr,\n",
       ".dataframe > tbody > tr {\n",
       "  text-align: right;\n",
       "  white-space: pre-wrap;\n",
       "}\n",
       "</style>\n",
       "<small>shape: (4, 9)</small><table border=\"1\" class=\"dataframe\"><thead><tr><th>Source</th><th>Set Type</th><th>Rows Fixed</th><th>Rows Swapped</th><th>Rows Divisible</th><th>Columns Fixed</th><th>Columns Swapped</th><th>Columns Divisible</th><th>Total Tasks</th></tr><tr><td>cat</td><td>cat</td><td>u32</td><td>u32</td><td>u32</td><td>u32</td><td>u32</td><td>u32</td><td>u32</td></tr></thead><tbody><tr><td>&quot;ARC-AGI-1&quot;</td><td>&quot;evaluation&quot;</td><td>163</td><td>219</td><td>359</td><td>166</td><td>224</td><td>359</td><td>400</td></tr><tr><td>&quot;ARC-AGI-2&quot;</td><td>&quot;evaluation&quot;</td><td>25</td><td>49</td><td>89</td><td>30</td><td>53</td><td>89</td><td>120</td></tr><tr><td>&quot;ARC-AGI-2&quot;</td><td>&quot;training&quot;</td><td>439</td><td>615</td><td>892</td><td>430</td><td>617</td><td>886</td><td>1000</td></tr><tr><td>&quot;ARC-AGI-1&quot;</td><td>&quot;training&quot;</td><td>216</td><td>273</td><td>358</td><td>209</td><td>274</td><td>355</td><td>400</td></tr></tbody></table></div>"
      ]
     },
     "execution_count": 171,
     "metadata": {},
     "output_type": "execute_result"
    }
   ],
   "execution_count": 171
  },
  {
   "metadata": {},
   "cell_type": "markdown",
   "source": [
    "# Predict rows and columns\n",
    "Currently using both test and train. Will need to do with just train"
   ],
   "id": "540293dcfe9bbfbc"
  },
  {
   "metadata": {
    "ExecuteTime": {
     "end_time": "2025-04-01T02:53:40.455909Z",
     "start_time": "2025-04-01T02:53:40.438240Z"
    }
   },
   "cell_type": "code",
   "source": [
    "rows_known = (pl.col(\"Rows Fixed\") | pl.col(\"Rows Swapped\") | pl.col(\"Rows Divisible\")).alias(\"Rows Known\")\n",
    "cols_known = (pl.col(\"Columns Fixed\") | pl.col(\"Columns Swapped\") | pl.col(\"Columns Divisible\")).alias(\"Columns Known\")\n",
    "shape_known = (pl.col(\"Rows Known\") & pl.col(\"Columns Known\")).alias(\"Shape Known\")\n",
    "shape_known_frame = (shape_study_frame.\n",
    "                     with_columns(rows_known, cols_known).\n",
    "                     with_columns(shape_known).\n",
    "                     drop(col_names))\n",
    "known_columns = (\"Rows Known\", \"Columns Known\", \"Shape Known\")\n",
    "shape_known_frame.group_by(\"Source\",\"Set Type\").agg(*[filter_col(n)/pl.len() for n in known_columns])"
   ],
   "id": "a0d29e21453a7a9d",
   "outputs": [
    {
     "data": {
      "text/plain": [
       "shape: (4, 5)\n",
       "┌───────────┬────────────┬────────────┬───────────────┬─────────────┐\n",
       "│ Source    ┆ Set Type   ┆ Rows Known ┆ Columns Known ┆ Shape Known │\n",
       "│ ---       ┆ ---        ┆ ---        ┆ ---           ┆ ---         │\n",
       "│ cat       ┆ cat        ┆ f64        ┆ f64           ┆ f64         │\n",
       "╞═══════════╪════════════╪════════════╪═══════════════╪═════════════╡\n",
       "│ ARC-AGI-2 ┆ evaluation ┆ 0.75       ┆ 0.75          ┆ 0.725       │\n",
       "│ ARC-AGI-2 ┆ training   ┆ 0.893      ┆ 0.892         ┆ 0.884       │\n",
       "│ ARC-AGI-1 ┆ training   ┆ 0.895      ┆ 0.895         ┆ 0.8925      │\n",
       "│ ARC-AGI-1 ┆ evaluation ┆ 0.8975     ┆ 0.9           ┆ 0.895       │\n",
       "└───────────┴────────────┴────────────┴───────────────┴─────────────┘"
      ],
      "text/html": [
       "<div><style>\n",
       ".dataframe > thead > tr,\n",
       ".dataframe > tbody > tr {\n",
       "  text-align: right;\n",
       "  white-space: pre-wrap;\n",
       "}\n",
       "</style>\n",
       "<small>shape: (4, 5)</small><table border=\"1\" class=\"dataframe\"><thead><tr><th>Source</th><th>Set Type</th><th>Rows Known</th><th>Columns Known</th><th>Shape Known</th></tr><tr><td>cat</td><td>cat</td><td>f64</td><td>f64</td><td>f64</td></tr></thead><tbody><tr><td>&quot;ARC-AGI-2&quot;</td><td>&quot;evaluation&quot;</td><td>0.75</td><td>0.75</td><td>0.725</td></tr><tr><td>&quot;ARC-AGI-2&quot;</td><td>&quot;training&quot;</td><td>0.893</td><td>0.892</td><td>0.884</td></tr><tr><td>&quot;ARC-AGI-1&quot;</td><td>&quot;training&quot;</td><td>0.895</td><td>0.895</td><td>0.8925</td></tr><tr><td>&quot;ARC-AGI-1&quot;</td><td>&quot;evaluation&quot;</td><td>0.8975</td><td>0.9</td><td>0.895</td></tr></tbody></table></div>"
      ]
     },
     "execution_count": 172,
     "metadata": {},
     "output_type": "execute_result"
    }
   ],
   "execution_count": 172
  }
 ],
 "metadata": {
  "kernelspec": {
   "display_name": "Python 3",
   "language": "python",
   "name": "python3"
  },
  "language_info": {
   "codemirror_mode": {
    "name": "ipython",
    "version": 2
   },
   "file_extension": ".py",
   "mimetype": "text/x-python",
   "name": "python",
   "nbconvert_exporter": "python",
   "pygments_lexer": "ipython2",
   "version": "2.7.6"
  }
 },
 "nbformat": 4,
 "nbformat_minor": 5
}
