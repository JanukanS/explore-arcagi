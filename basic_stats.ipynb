{
 "cells": [
  {
   "cell_type": "code",
   "id": "initial_id",
   "metadata": {
    "collapsed": true,
    "ExecuteTime": {
     "end_time": "2025-03-29T16:46:36.797246Z",
     "start_time": "2025-03-29T16:46:36.794107Z"
    }
   },
   "source": [
    "from arcexplore import *\n",
    "import polars as pl"
   ],
   "outputs": [],
   "execution_count": 199
  },
  {
   "metadata": {},
   "cell_type": "markdown",
   "source": "# Creation of Input/Output complete Dataframe",
   "id": "ab8482b6aa64a9ff"
  },
  {
   "metadata": {
    "ExecuteTime": {
     "end_time": "2025-03-29T16:46:38.040002Z",
     "start_time": "2025-03-29T16:46:36.812859Z"
    }
   },
   "cell_type": "code",
   "source": [
    "rows = [(id,k,d,tt,it.input.tolist(), it.output.tolist()) for k,d,id,tt,_,it in ARC_DATA.data_iter()]\n",
    "complete_scheme = (\"ID\",\"Source\", \"Set Type\",\"Task Type\",\"Input\",\"Output\")\n",
    "Source = pl.Categorical([\"ARC-AGI-1\",\"ARC-AGI-2\"])\n",
    "SetType = pl.Categorical([\"training\",\"evaluation\"])\n",
    "TaskType = pl.Categorical([\"train\",\"test\"])\n",
    "complete_frame = pl.DataFrame(rows,\n",
    "                              schema = complete_scheme,\n",
    "                              schema_overrides = {\n",
    "                                  \"Source\": Source,\n",
    "                                  \"Set Type\": SetType,\n",
    "                                  \"Task Type\": TaskType,\n",
    "                                  \"Input\": pl.List(pl.List(pl.Int8)),\n",
    "                                  \"Output\": pl.List(pl.List(pl.Int8))\n",
    "                              },\n",
    "                              orient=\"row\")\n",
    "\n",
    "display(complete_frame)"
   ],
   "id": "33392a9a4e531c68",
   "outputs": [
    {
     "data": {
      "text/plain": [
       "shape: (8_337, 6)\n",
       "┌──────────┬───────────┬────────────┬───────────┬─────────────────────────┬────────────────────────┐\n",
       "│ ID       ┆ Source    ┆ Set Type   ┆ Task Type ┆ Input                   ┆ Output                 │\n",
       "│ ---      ┆ ---       ┆ ---        ┆ ---       ┆ ---                     ┆ ---                    │\n",
       "│ str      ┆ cat       ┆ cat        ┆ cat       ┆ list[list[i8]]          ┆ list[list[i8]]         │\n",
       "╞══════════╪═══════════╪════════════╪═══════════╪═════════════════════════╪════════════════════════╡\n",
       "│ 007bbfb7 ┆ ARC-AGI-1 ┆ training   ┆ train     ┆ [[0, 7, 7], [7, 7, 7],  ┆ [[0, 0, … 7], [0, 0, … │\n",
       "│          ┆           ┆            ┆           ┆ [0, 7, …                ┆ 7], … […               │\n",
       "│ 007bbfb7 ┆ ARC-AGI-1 ┆ training   ┆ train     ┆ [[4, 0, 4], [0, 0, 0],  ┆ [[4, 0, … 4], [0, 0, … │\n",
       "│          ┆           ┆            ┆           ┆ [0, 4, …                ┆ 0], … […               │\n",
       "│ 007bbfb7 ┆ ARC-AGI-1 ┆ training   ┆ train     ┆ [[0, 0, 0], [0, 0, 2],  ┆ [[0, 0, … 0], [0, 0, … │\n",
       "│          ┆           ┆            ┆           ┆ [2, 0, …                ┆ 0], … […               │\n",
       "│ 007bbfb7 ┆ ARC-AGI-1 ┆ training   ┆ train     ┆ [[6, 6, 0], [6, 0, 0],  ┆ [[6, 6, … 0], [6, 0, … │\n",
       "│          ┆           ┆            ┆           ┆ [0, 6, …                ┆ 0], … […               │\n",
       "│ 007bbfb7 ┆ ARC-AGI-1 ┆ training   ┆ train     ┆ [[2, 2, 2], [0, 0, 0],  ┆ [[2, 2, … 2], [0, 0, … │\n",
       "│          ┆           ┆            ┆           ┆ [0, 2, …                ┆ 0], … […               │\n",
       "│ …        ┆ …         ┆ …          ┆ …         ┆ …                       ┆ …                      │\n",
       "│ faa9f03d ┆ ARC-AGI-2 ┆ evaluation ┆ test      ┆ [[0, 0, … 0], [0, 0, …  ┆ [[0, 0, … 0], [0, 0, … │\n",
       "│          ┆           ┆            ┆           ┆ 0], … […                ┆ 0], … […               │\n",
       "│ fc7cae8d ┆ ARC-AGI-2 ┆ evaluation ┆ train     ┆ [[4, 4, … 4], [6, 0, …  ┆ [[1, 1, … 1], [1, 3, … │\n",
       "│          ┆           ┆            ┆           ┆ 5], … […                ┆ 1], … […               │\n",
       "│ fc7cae8d ┆ ARC-AGI-2 ┆ evaluation ┆ train     ┆ [[5, 5, … 1], [0, 0, …  ┆ [[2, 2, … 2], [2, 8, … │\n",
       "│          ┆           ┆            ┆           ┆ 1], … […                ┆ 2], … […               │\n",
       "│ fc7cae8d ┆ ARC-AGI-2 ┆ evaluation ┆ train     ┆ [[2, 0, … 5], [2, 2, …  ┆ [[8, 8, … 0], [8, 8, … │\n",
       "│          ┆           ┆            ┆           ┆ 0], … […                ┆ 8], … […               │\n",
       "│ fc7cae8d ┆ ARC-AGI-2 ┆ evaluation ┆ test      ┆ [[2, 2, … 2], [2, 0, …  ┆ [[4, 4, … 4], [7, 7, … │\n",
       "│          ┆           ┆            ┆           ┆ 2], … […                ┆ 4], … […               │\n",
       "└──────────┴───────────┴────────────┴───────────┴─────────────────────────┴────────────────────────┘"
      ],
      "text/html": [
       "<div><style>\n",
       ".dataframe > thead > tr,\n",
       ".dataframe > tbody > tr {\n",
       "  text-align: right;\n",
       "  white-space: pre-wrap;\n",
       "}\n",
       "</style>\n",
       "<small>shape: (8_337, 6)</small><table border=\"1\" class=\"dataframe\"><thead><tr><th>ID</th><th>Source</th><th>Set Type</th><th>Task Type</th><th>Input</th><th>Output</th></tr><tr><td>str</td><td>cat</td><td>cat</td><td>cat</td><td>list[list[i8]]</td><td>list[list[i8]]</td></tr></thead><tbody><tr><td>&quot;007bbfb7&quot;</td><td>&quot;ARC-AGI-1&quot;</td><td>&quot;training&quot;</td><td>&quot;train&quot;</td><td>[[0, 7, 7], [7, 7, 7], [0, 7, 7]]</td><td>[[0, 0, … 7], [0, 0, … 7], … [0, 0, … 7]]</td></tr><tr><td>&quot;007bbfb7&quot;</td><td>&quot;ARC-AGI-1&quot;</td><td>&quot;training&quot;</td><td>&quot;train&quot;</td><td>[[4, 0, 4], [0, 0, 0], [0, 4, 0]]</td><td>[[4, 0, … 4], [0, 0, … 0], … [0, 0, … 0]]</td></tr><tr><td>&quot;007bbfb7&quot;</td><td>&quot;ARC-AGI-1&quot;</td><td>&quot;training&quot;</td><td>&quot;train&quot;</td><td>[[0, 0, 0], [0, 0, 2], [2, 0, 2]]</td><td>[[0, 0, … 0], [0, 0, … 0], … [2, 0, … 2]]</td></tr><tr><td>&quot;007bbfb7&quot;</td><td>&quot;ARC-AGI-1&quot;</td><td>&quot;training&quot;</td><td>&quot;train&quot;</td><td>[[6, 6, 0], [6, 0, 0], [0, 6, 6]]</td><td>[[6, 6, … 0], [6, 0, … 0], … [0, 0, … 6]]</td></tr><tr><td>&quot;007bbfb7&quot;</td><td>&quot;ARC-AGI-1&quot;</td><td>&quot;training&quot;</td><td>&quot;train&quot;</td><td>[[2, 2, 2], [0, 0, 0], [0, 2, 2]]</td><td>[[2, 2, … 2], [0, 0, … 0], … [0, 0, … 2]]</td></tr><tr><td>&hellip;</td><td>&hellip;</td><td>&hellip;</td><td>&hellip;</td><td>&hellip;</td><td>&hellip;</td></tr><tr><td>&quot;faa9f03d&quot;</td><td>&quot;ARC-AGI-2&quot;</td><td>&quot;evaluation&quot;</td><td>&quot;test&quot;</td><td>[[0, 0, … 0], [0, 0, … 0], … [0, 0, … 0]]</td><td>[[0, 0, … 0], [0, 0, … 0], … [0, 0, … 0]]</td></tr><tr><td>&quot;fc7cae8d&quot;</td><td>&quot;ARC-AGI-2&quot;</td><td>&quot;evaluation&quot;</td><td>&quot;train&quot;</td><td>[[4, 4, … 4], [6, 0, … 5], … [6, 0, … 5]]</td><td>[[1, 1, … 1], [1, 3, … 1], … [1, 1, … 1]]</td></tr><tr><td>&quot;fc7cae8d&quot;</td><td>&quot;ARC-AGI-2&quot;</td><td>&quot;evaluation&quot;</td><td>&quot;train&quot;</td><td>[[5, 5, … 1], [0, 0, … 1], … [3, 3, … 3]]</td><td>[[2, 2, … 2], [2, 8, … 2], … [2, 2, … 2]]</td></tr><tr><td>&quot;fc7cae8d&quot;</td><td>&quot;ARC-AGI-2&quot;</td><td>&quot;evaluation&quot;</td><td>&quot;train&quot;</td><td>[[2, 0, … 5], [2, 2, … 0], … [4, 4, … 4]]</td><td>[[8, 8, … 0], [8, 8, … 8], … [8, 8, … 8]]</td></tr><tr><td>&quot;fc7cae8d&quot;</td><td>&quot;ARC-AGI-2&quot;</td><td>&quot;evaluation&quot;</td><td>&quot;test&quot;</td><td>[[2, 2, … 2], [2, 0, … 2], … [5, 0, … 3]]</td><td>[[4, 4, … 4], [7, 7, … 4], … [4, 4, … 4]]</td></tr></tbody></table></div>"
      ]
     },
     "metadata": {},
     "output_type": "display_data"
    }
   ],
   "execution_count": 200
  },
  {
   "metadata": {},
   "cell_type": "markdown",
   "source": "# Counting Tasks",
   "id": "fdd611618fd1e03a"
  },
  {
   "metadata": {
    "ExecuteTime": {
     "end_time": "2025-03-29T16:46:38.058039Z",
     "start_time": "2025-03-29T16:46:38.049107Z"
    }
   },
   "cell_type": "code",
   "source": [
    "def level_agg(frame, cols, op_expr = None):\n",
    "    op_expr = None or pl.len().alias(\"Count\")\n",
    "    for i in range(len(cols),0,-1):\n",
    "        level_frame = frame.group_by(cols[:i]).agg(op_expr)\n",
    "        display(level_frame)\n",
    "\n",
    "level_agg(complete_frame.drop((\"Task Type\",\"Input\",\"Output\")).unique(),(\"Source\", \"Set Type\"))"
   ],
   "id": "29d27c6e2be7bd0e",
   "outputs": [
    {
     "data": {
      "text/plain": [
       "shape: (4, 3)\n",
       "┌───────────┬────────────┬───────┐\n",
       "│ Source    ┆ Set Type   ┆ Count │\n",
       "│ ---       ┆ ---        ┆ ---   │\n",
       "│ cat       ┆ cat        ┆ u32   │\n",
       "╞═══════════╪════════════╪═══════╡\n",
       "│ ARC-AGI-1 ┆ evaluation ┆ 400   │\n",
       "│ ARC-AGI-2 ┆ evaluation ┆ 120   │\n",
       "│ ARC-AGI-2 ┆ training   ┆ 1000  │\n",
       "│ ARC-AGI-1 ┆ training   ┆ 400   │\n",
       "└───────────┴────────────┴───────┘"
      ],
      "text/html": [
       "<div><style>\n",
       ".dataframe > thead > tr,\n",
       ".dataframe > tbody > tr {\n",
       "  text-align: right;\n",
       "  white-space: pre-wrap;\n",
       "}\n",
       "</style>\n",
       "<small>shape: (4, 3)</small><table border=\"1\" class=\"dataframe\"><thead><tr><th>Source</th><th>Set Type</th><th>Count</th></tr><tr><td>cat</td><td>cat</td><td>u32</td></tr></thead><tbody><tr><td>&quot;ARC-AGI-1&quot;</td><td>&quot;evaluation&quot;</td><td>400</td></tr><tr><td>&quot;ARC-AGI-2&quot;</td><td>&quot;evaluation&quot;</td><td>120</td></tr><tr><td>&quot;ARC-AGI-2&quot;</td><td>&quot;training&quot;</td><td>1000</td></tr><tr><td>&quot;ARC-AGI-1&quot;</td><td>&quot;training&quot;</td><td>400</td></tr></tbody></table></div>"
      ]
     },
     "metadata": {},
     "output_type": "display_data"
    },
    {
     "data": {
      "text/plain": [
       "shape: (2, 2)\n",
       "┌───────────┬───────┐\n",
       "│ Source    ┆ Count │\n",
       "│ ---       ┆ ---   │\n",
       "│ cat       ┆ u32   │\n",
       "╞═══════════╪═══════╡\n",
       "│ ARC-AGI-2 ┆ 1120  │\n",
       "│ ARC-AGI-1 ┆ 800   │\n",
       "└───────────┴───────┘"
      ],
      "text/html": [
       "<div><style>\n",
       ".dataframe > thead > tr,\n",
       ".dataframe > tbody > tr {\n",
       "  text-align: right;\n",
       "  white-space: pre-wrap;\n",
       "}\n",
       "</style>\n",
       "<small>shape: (2, 2)</small><table border=\"1\" class=\"dataframe\"><thead><tr><th>Source</th><th>Count</th></tr><tr><td>cat</td><td>u32</td></tr></thead><tbody><tr><td>&quot;ARC-AGI-2&quot;</td><td>1120</td></tr><tr><td>&quot;ARC-AGI-1&quot;</td><td>800</td></tr></tbody></table></div>"
      ]
     },
     "metadata": {},
     "output_type": "display_data"
    }
   ],
   "execution_count": 201
  },
  {
   "metadata": {},
   "cell_type": "markdown",
   "source": "# Counting Grid Pairs",
   "id": "67b797f92dd4f968"
  },
  {
   "metadata": {
    "ExecuteTime": {
     "end_time": "2025-03-29T16:46:38.118868Z",
     "start_time": "2025-03-29T16:46:38.105125Z"
    }
   },
   "cell_type": "code",
   "source": "level_agg(complete_frame,(\"Source\", \"Set Type\",\"ID\",\"Task Type\"))",
   "id": "5a2bcc9e7c364b09",
   "outputs": [
    {
     "data": {
      "text/plain": [
       "shape: (3_840, 5)\n",
       "┌───────────┬────────────┬──────────┬───────────┬───────┐\n",
       "│ Source    ┆ Set Type   ┆ ID       ┆ Task Type ┆ Count │\n",
       "│ ---       ┆ ---        ┆ ---      ┆ ---       ┆ ---   │\n",
       "│ cat       ┆ cat        ┆ str      ┆ cat       ┆ u32   │\n",
       "╞═══════════╪════════════╪══════════╪═══════════╪═══════╡\n",
       "│ ARC-AGI-1 ┆ evaluation ┆ b7f8a4d8 ┆ test      ┆ 1     │\n",
       "│ ARC-AGI-2 ┆ training   ┆ 53b68214 ┆ test      ┆ 2     │\n",
       "│ ARC-AGI-2 ┆ evaluation ┆ 71e489b6 ┆ train     ┆ 3     │\n",
       "│ ARC-AGI-1 ┆ training   ┆ 4938f0c2 ┆ train     ┆ 3     │\n",
       "│ ARC-AGI-2 ┆ training   ┆ d631b094 ┆ test      ┆ 1     │\n",
       "│ …         ┆ …          ┆ …        ┆ …         ┆ …     │\n",
       "│ ARC-AGI-2 ┆ training   ┆ bd14c3bf ┆ train     ┆ 3     │\n",
       "│ ARC-AGI-1 ┆ training   ┆ 7447852a ┆ train     ┆ 3     │\n",
       "│ ARC-AGI-2 ┆ training   ┆ 5ad4f10b ┆ train     ┆ 3     │\n",
       "│ ARC-AGI-2 ┆ training   ┆ ac6f9922 ┆ train     ┆ 3     │\n",
       "│ ARC-AGI-2 ┆ training   ┆ e8dc4411 ┆ test      ┆ 1     │\n",
       "└───────────┴────────────┴──────────┴───────────┴───────┘"
      ],
      "text/html": [
       "<div><style>\n",
       ".dataframe > thead > tr,\n",
       ".dataframe > tbody > tr {\n",
       "  text-align: right;\n",
       "  white-space: pre-wrap;\n",
       "}\n",
       "</style>\n",
       "<small>shape: (3_840, 5)</small><table border=\"1\" class=\"dataframe\"><thead><tr><th>Source</th><th>Set Type</th><th>ID</th><th>Task Type</th><th>Count</th></tr><tr><td>cat</td><td>cat</td><td>str</td><td>cat</td><td>u32</td></tr></thead><tbody><tr><td>&quot;ARC-AGI-1&quot;</td><td>&quot;evaluation&quot;</td><td>&quot;b7f8a4d8&quot;</td><td>&quot;test&quot;</td><td>1</td></tr><tr><td>&quot;ARC-AGI-2&quot;</td><td>&quot;training&quot;</td><td>&quot;53b68214&quot;</td><td>&quot;test&quot;</td><td>2</td></tr><tr><td>&quot;ARC-AGI-2&quot;</td><td>&quot;evaluation&quot;</td><td>&quot;71e489b6&quot;</td><td>&quot;train&quot;</td><td>3</td></tr><tr><td>&quot;ARC-AGI-1&quot;</td><td>&quot;training&quot;</td><td>&quot;4938f0c2&quot;</td><td>&quot;train&quot;</td><td>3</td></tr><tr><td>&quot;ARC-AGI-2&quot;</td><td>&quot;training&quot;</td><td>&quot;d631b094&quot;</td><td>&quot;test&quot;</td><td>1</td></tr><tr><td>&hellip;</td><td>&hellip;</td><td>&hellip;</td><td>&hellip;</td><td>&hellip;</td></tr><tr><td>&quot;ARC-AGI-2&quot;</td><td>&quot;training&quot;</td><td>&quot;bd14c3bf&quot;</td><td>&quot;train&quot;</td><td>3</td></tr><tr><td>&quot;ARC-AGI-1&quot;</td><td>&quot;training&quot;</td><td>&quot;7447852a&quot;</td><td>&quot;train&quot;</td><td>3</td></tr><tr><td>&quot;ARC-AGI-2&quot;</td><td>&quot;training&quot;</td><td>&quot;5ad4f10b&quot;</td><td>&quot;train&quot;</td><td>3</td></tr><tr><td>&quot;ARC-AGI-2&quot;</td><td>&quot;training&quot;</td><td>&quot;ac6f9922&quot;</td><td>&quot;train&quot;</td><td>3</td></tr><tr><td>&quot;ARC-AGI-2&quot;</td><td>&quot;training&quot;</td><td>&quot;e8dc4411&quot;</td><td>&quot;test&quot;</td><td>1</td></tr></tbody></table></div>"
      ]
     },
     "metadata": {},
     "output_type": "display_data"
    },
    {
     "data": {
      "text/plain": [
       "shape: (1_920, 4)\n",
       "┌───────────┬────────────┬──────────┬───────┐\n",
       "│ Source    ┆ Set Type   ┆ ID       ┆ Count │\n",
       "│ ---       ┆ ---        ┆ ---      ┆ ---   │\n",
       "│ cat       ┆ cat        ┆ str      ┆ u32   │\n",
       "╞═══════════╪════════════╪══════════╪═══════╡\n",
       "│ ARC-AGI-2 ┆ training   ┆ a1aa0c1e ┆ 4     │\n",
       "│ ARC-AGI-2 ┆ training   ┆ 9b4c17c4 ┆ 6     │\n",
       "│ ARC-AGI-2 ┆ training   ┆ 52364a65 ┆ 3     │\n",
       "│ ARC-AGI-2 ┆ training   ┆ f25fbde4 ┆ 4     │\n",
       "│ ARC-AGI-2 ┆ training   ┆ beb8660c ┆ 4     │\n",
       "│ …         ┆ …          ┆ …        ┆ …     │\n",
       "│ ARC-AGI-2 ┆ training   ┆ cad67732 ┆ 4     │\n",
       "│ ARC-AGI-1 ┆ training   ┆ ddf7fa4f ┆ 4     │\n",
       "│ ARC-AGI-2 ┆ evaluation ┆ fc7cae8d ┆ 4     │\n",
       "│ ARC-AGI-2 ┆ training   ┆ e872b94a ┆ 5     │\n",
       "│ ARC-AGI-2 ┆ training   ┆ 7ddcd7ec ┆ 4     │\n",
       "└───────────┴────────────┴──────────┴───────┘"
      ],
      "text/html": [
       "<div><style>\n",
       ".dataframe > thead > tr,\n",
       ".dataframe > tbody > tr {\n",
       "  text-align: right;\n",
       "  white-space: pre-wrap;\n",
       "}\n",
       "</style>\n",
       "<small>shape: (1_920, 4)</small><table border=\"1\" class=\"dataframe\"><thead><tr><th>Source</th><th>Set Type</th><th>ID</th><th>Count</th></tr><tr><td>cat</td><td>cat</td><td>str</td><td>u32</td></tr></thead><tbody><tr><td>&quot;ARC-AGI-2&quot;</td><td>&quot;training&quot;</td><td>&quot;a1aa0c1e&quot;</td><td>4</td></tr><tr><td>&quot;ARC-AGI-2&quot;</td><td>&quot;training&quot;</td><td>&quot;9b4c17c4&quot;</td><td>6</td></tr><tr><td>&quot;ARC-AGI-2&quot;</td><td>&quot;training&quot;</td><td>&quot;52364a65&quot;</td><td>3</td></tr><tr><td>&quot;ARC-AGI-2&quot;</td><td>&quot;training&quot;</td><td>&quot;f25fbde4&quot;</td><td>4</td></tr><tr><td>&quot;ARC-AGI-2&quot;</td><td>&quot;training&quot;</td><td>&quot;beb8660c&quot;</td><td>4</td></tr><tr><td>&hellip;</td><td>&hellip;</td><td>&hellip;</td><td>&hellip;</td></tr><tr><td>&quot;ARC-AGI-2&quot;</td><td>&quot;training&quot;</td><td>&quot;cad67732&quot;</td><td>4</td></tr><tr><td>&quot;ARC-AGI-1&quot;</td><td>&quot;training&quot;</td><td>&quot;ddf7fa4f&quot;</td><td>4</td></tr><tr><td>&quot;ARC-AGI-2&quot;</td><td>&quot;evaluation&quot;</td><td>&quot;fc7cae8d&quot;</td><td>4</td></tr><tr><td>&quot;ARC-AGI-2&quot;</td><td>&quot;training&quot;</td><td>&quot;e872b94a&quot;</td><td>5</td></tr><tr><td>&quot;ARC-AGI-2&quot;</td><td>&quot;training&quot;</td><td>&quot;7ddcd7ec&quot;</td><td>4</td></tr></tbody></table></div>"
      ]
     },
     "metadata": {},
     "output_type": "display_data"
    },
    {
     "data": {
      "text/plain": [
       "shape: (4, 3)\n",
       "┌───────────┬────────────┬───────┐\n",
       "│ Source    ┆ Set Type   ┆ Count │\n",
       "│ ---       ┆ ---        ┆ ---   │\n",
       "│ cat       ┆ cat        ┆ u32   │\n",
       "╞═══════════╪════════════╪═══════╡\n",
       "│ ARC-AGI-1 ┆ training   ┆ 1718  │\n",
       "│ ARC-AGI-2 ┆ training   ┆ 4308  │\n",
       "│ ARC-AGI-1 ┆ evaluation ┆ 1782  │\n",
       "│ ARC-AGI-2 ┆ evaluation ┆ 529   │\n",
       "└───────────┴────────────┴───────┘"
      ],
      "text/html": [
       "<div><style>\n",
       ".dataframe > thead > tr,\n",
       ".dataframe > tbody > tr {\n",
       "  text-align: right;\n",
       "  white-space: pre-wrap;\n",
       "}\n",
       "</style>\n",
       "<small>shape: (4, 3)</small><table border=\"1\" class=\"dataframe\"><thead><tr><th>Source</th><th>Set Type</th><th>Count</th></tr><tr><td>cat</td><td>cat</td><td>u32</td></tr></thead><tbody><tr><td>&quot;ARC-AGI-1&quot;</td><td>&quot;training&quot;</td><td>1718</td></tr><tr><td>&quot;ARC-AGI-2&quot;</td><td>&quot;training&quot;</td><td>4308</td></tr><tr><td>&quot;ARC-AGI-1&quot;</td><td>&quot;evaluation&quot;</td><td>1782</td></tr><tr><td>&quot;ARC-AGI-2&quot;</td><td>&quot;evaluation&quot;</td><td>529</td></tr></tbody></table></div>"
      ]
     },
     "metadata": {},
     "output_type": "display_data"
    },
    {
     "data": {
      "text/plain": [
       "shape: (2, 2)\n",
       "┌───────────┬───────┐\n",
       "│ Source    ┆ Count │\n",
       "│ ---       ┆ ---   │\n",
       "│ cat       ┆ u32   │\n",
       "╞═══════════╪═══════╡\n",
       "│ ARC-AGI-2 ┆ 4837  │\n",
       "│ ARC-AGI-1 ┆ 3500  │\n",
       "└───────────┴───────┘"
      ],
      "text/html": [
       "<div><style>\n",
       ".dataframe > thead > tr,\n",
       ".dataframe > tbody > tr {\n",
       "  text-align: right;\n",
       "  white-space: pre-wrap;\n",
       "}\n",
       "</style>\n",
       "<small>shape: (2, 2)</small><table border=\"1\" class=\"dataframe\"><thead><tr><th>Source</th><th>Count</th></tr><tr><td>cat</td><td>u32</td></tr></thead><tbody><tr><td>&quot;ARC-AGI-2&quot;</td><td>4837</td></tr><tr><td>&quot;ARC-AGI-1&quot;</td><td>3500</td></tr></tbody></table></div>"
      ]
     },
     "metadata": {},
     "output_type": "display_data"
    }
   ],
   "execution_count": 202
  },
  {
   "metadata": {},
   "cell_type": "markdown",
   "source": "# Counting Grid Cells",
   "id": "a368e1053e77b833"
  },
  {
   "metadata": {
    "ExecuteTime": {
     "end_time": "2025-03-29T16:46:38.249985Z",
     "start_time": "2025-03-29T16:46:38.234464Z"
    }
   },
   "cell_type": "code",
   "source": [
    "size_grid = lambda col: pl.col(col).list.len()*pl.col(col).list.get(0).list.len()\n",
    "cell_col = (size_grid(\"Input\")+size_grid(\"Output\")).alias(\"Cells\")\n",
    "cells_frame = (complete_frame.with_columns(cell_col).\n",
    "               group_by((\"ID\", \"Source\", \"Set Type\")).\n",
    "               agg(pl.col(\"Cells\").sum()))\n",
    "\n",
    "\n",
    "level_agg(cells_frame,(\"Source\",\"Set Type\",\"ID\"),pl.col(\"Cells\").sum())"
   ],
   "id": "b7497803e4994989",
   "outputs": [
    {
     "data": {
      "text/plain": [
       "shape: (1_920, 4)\n",
       "┌───────────┬────────────┬──────────┬───────┐\n",
       "│ Source    ┆ Set Type   ┆ ID       ┆ Count │\n",
       "│ ---       ┆ ---        ┆ ---      ┆ ---   │\n",
       "│ cat       ┆ cat        ┆ str      ┆ u32   │\n",
       "╞═══════════╪════════════╪══════════╪═══════╡\n",
       "│ ARC-AGI-2 ┆ evaluation ┆ 195c6913 ┆ 1     │\n",
       "│ ARC-AGI-1 ┆ training   ┆ f15e1fac ┆ 1     │\n",
       "│ ARC-AGI-1 ┆ evaluation ┆ 9a4bb226 ┆ 1     │\n",
       "│ ARC-AGI-2 ┆ evaluation ┆ 136b0064 ┆ 1     │\n",
       "│ ARC-AGI-2 ┆ training   ┆ e4941b18 ┆ 1     │\n",
       "│ …         ┆ …          ┆ …        ┆ …     │\n",
       "│ ARC-AGI-2 ┆ training   ┆ ea959feb ┆ 1     │\n",
       "│ ARC-AGI-1 ┆ evaluation ┆ 281123b4 ┆ 1     │\n",
       "│ ARC-AGI-2 ┆ training   ┆ d2abd087 ┆ 1     │\n",
       "│ ARC-AGI-1 ┆ training   ┆ 7447852a ┆ 1     │\n",
       "│ ARC-AGI-1 ┆ training   ┆ 41e4d17e ┆ 1     │\n",
       "└───────────┴────────────┴──────────┴───────┘"
      ],
      "text/html": [
       "<div><style>\n",
       ".dataframe > thead > tr,\n",
       ".dataframe > tbody > tr {\n",
       "  text-align: right;\n",
       "  white-space: pre-wrap;\n",
       "}\n",
       "</style>\n",
       "<small>shape: (1_920, 4)</small><table border=\"1\" class=\"dataframe\"><thead><tr><th>Source</th><th>Set Type</th><th>ID</th><th>Count</th></tr><tr><td>cat</td><td>cat</td><td>str</td><td>u32</td></tr></thead><tbody><tr><td>&quot;ARC-AGI-2&quot;</td><td>&quot;evaluation&quot;</td><td>&quot;195c6913&quot;</td><td>1</td></tr><tr><td>&quot;ARC-AGI-1&quot;</td><td>&quot;training&quot;</td><td>&quot;f15e1fac&quot;</td><td>1</td></tr><tr><td>&quot;ARC-AGI-1&quot;</td><td>&quot;evaluation&quot;</td><td>&quot;9a4bb226&quot;</td><td>1</td></tr><tr><td>&quot;ARC-AGI-2&quot;</td><td>&quot;evaluation&quot;</td><td>&quot;136b0064&quot;</td><td>1</td></tr><tr><td>&quot;ARC-AGI-2&quot;</td><td>&quot;training&quot;</td><td>&quot;e4941b18&quot;</td><td>1</td></tr><tr><td>&hellip;</td><td>&hellip;</td><td>&hellip;</td><td>&hellip;</td></tr><tr><td>&quot;ARC-AGI-2&quot;</td><td>&quot;training&quot;</td><td>&quot;ea959feb&quot;</td><td>1</td></tr><tr><td>&quot;ARC-AGI-1&quot;</td><td>&quot;evaluation&quot;</td><td>&quot;281123b4&quot;</td><td>1</td></tr><tr><td>&quot;ARC-AGI-2&quot;</td><td>&quot;training&quot;</td><td>&quot;d2abd087&quot;</td><td>1</td></tr><tr><td>&quot;ARC-AGI-1&quot;</td><td>&quot;training&quot;</td><td>&quot;7447852a&quot;</td><td>1</td></tr><tr><td>&quot;ARC-AGI-1&quot;</td><td>&quot;training&quot;</td><td>&quot;41e4d17e&quot;</td><td>1</td></tr></tbody></table></div>"
      ]
     },
     "metadata": {},
     "output_type": "display_data"
    },
    {
     "data": {
      "text/plain": [
       "shape: (4, 3)\n",
       "┌───────────┬────────────┬───────┐\n",
       "│ Source    ┆ Set Type   ┆ Count │\n",
       "│ ---       ┆ ---        ┆ ---   │\n",
       "│ cat       ┆ cat        ┆ u32   │\n",
       "╞═══════════╪════════════╪═══════╡\n",
       "│ ARC-AGI-1 ┆ training   ┆ 400   │\n",
       "│ ARC-AGI-2 ┆ training   ┆ 1000  │\n",
       "│ ARC-AGI-1 ┆ evaluation ┆ 400   │\n",
       "│ ARC-AGI-2 ┆ evaluation ┆ 120   │\n",
       "└───────────┴────────────┴───────┘"
      ],
      "text/html": [
       "<div><style>\n",
       ".dataframe > thead > tr,\n",
       ".dataframe > tbody > tr {\n",
       "  text-align: right;\n",
       "  white-space: pre-wrap;\n",
       "}\n",
       "</style>\n",
       "<small>shape: (4, 3)</small><table border=\"1\" class=\"dataframe\"><thead><tr><th>Source</th><th>Set Type</th><th>Count</th></tr><tr><td>cat</td><td>cat</td><td>u32</td></tr></thead><tbody><tr><td>&quot;ARC-AGI-1&quot;</td><td>&quot;training&quot;</td><td>400</td></tr><tr><td>&quot;ARC-AGI-2&quot;</td><td>&quot;training&quot;</td><td>1000</td></tr><tr><td>&quot;ARC-AGI-1&quot;</td><td>&quot;evaluation&quot;</td><td>400</td></tr><tr><td>&quot;ARC-AGI-2&quot;</td><td>&quot;evaluation&quot;</td><td>120</td></tr></tbody></table></div>"
      ]
     },
     "metadata": {},
     "output_type": "display_data"
    },
    {
     "data": {
      "text/plain": [
       "shape: (2, 2)\n",
       "┌───────────┬───────┐\n",
       "│ Source    ┆ Count │\n",
       "│ ---       ┆ ---   │\n",
       "│ cat       ┆ u32   │\n",
       "╞═══════════╪═══════╡\n",
       "│ ARC-AGI-2 ┆ 1120  │\n",
       "│ ARC-AGI-1 ┆ 800   │\n",
       "└───────────┴───────┘"
      ],
      "text/html": [
       "<div><style>\n",
       ".dataframe > thead > tr,\n",
       ".dataframe > tbody > tr {\n",
       "  text-align: right;\n",
       "  white-space: pre-wrap;\n",
       "}\n",
       "</style>\n",
       "<small>shape: (2, 2)</small><table border=\"1\" class=\"dataframe\"><thead><tr><th>Source</th><th>Count</th></tr><tr><td>cat</td><td>u32</td></tr></thead><tbody><tr><td>&quot;ARC-AGI-2&quot;</td><td>1120</td></tr><tr><td>&quot;ARC-AGI-1&quot;</td><td>800</td></tr></tbody></table></div>"
      ]
     },
     "metadata": {},
     "output_type": "display_data"
    }
   ],
   "execution_count": 203
  },
  {
   "metadata": {},
   "cell_type": "markdown",
   "source": "# Strong Size Equality",
   "id": "f6d4655d1a86eb66"
  },
  {
   "metadata": {
    "ExecuteTime": {
     "end_time": "2025-03-29T16:51:23.914509Z",
     "start_time": "2025-03-29T16:51:23.896444Z"
    }
   },
   "cell_type": "code",
   "source": [
    "is_equal_expr = (size_grid(\"Input\") == size_grid(\"Output\")).alias(\"Equal\")\n",
    "all_equal_expr = (pl.col(\"Equal\").all()).alias(\"Equal Grids\")\n",
    "\n",
    "strong_equal = (complete_frame\n",
    "                .with_columns(is_equal_expr)\n",
    "                .group_by((\"ID\", \"Source\", \"Set Type\"))\n",
    "                .agg(all_equal_expr)\n",
    "                .filter(pl.col(\"Equal Grids\"))\n",
    "                .drop(pl.col(\"Equal Grids\")))\n",
    "\n",
    "level_agg(strong_equal,(\"Source\", \"Set Type\",\"ID\"))"
   ],
   "id": "c474a164f18e61ff",
   "outputs": [
    {
     "data": {
      "text/plain": [
       "shape: (1_294, 4)\n",
       "┌───────────┬────────────┬──────────┬───────┐\n",
       "│ Source    ┆ Set Type   ┆ ID       ┆ Count │\n",
       "│ ---       ┆ ---        ┆ ---      ┆ ---   │\n",
       "│ cat       ┆ cat        ┆ str      ┆ u32   │\n",
       "╞═══════════╪════════════╪══════════╪═══════╡\n",
       "│ ARC-AGI-2 ┆ training   ┆ 54dc2872 ┆ 1     │\n",
       "│ ARC-AGI-1 ┆ evaluation ┆ 4f537728 ┆ 1     │\n",
       "│ ARC-AGI-1 ┆ training   ┆ e21d9049 ┆ 1     │\n",
       "│ ARC-AGI-1 ┆ evaluation ┆ 55059096 ┆ 1     │\n",
       "│ ARC-AGI-2 ┆ training   ┆ db7260a4 ┆ 1     │\n",
       "│ …         ┆ …          ┆ …        ┆ …     │\n",
       "│ ARC-AGI-1 ┆ training   ┆ bd4472b8 ┆ 1     │\n",
       "│ ARC-AGI-2 ┆ training   ┆ 88a10436 ┆ 1     │\n",
       "│ ARC-AGI-2 ┆ training   ┆ 776ffc46 ┆ 1     │\n",
       "│ ARC-AGI-2 ┆ training   ┆ aabf363d ┆ 1     │\n",
       "│ ARC-AGI-2 ┆ training   ┆ a8610ef7 ┆ 1     │\n",
       "└───────────┴────────────┴──────────┴───────┘"
      ],
      "text/html": [
       "<div><style>\n",
       ".dataframe > thead > tr,\n",
       ".dataframe > tbody > tr {\n",
       "  text-align: right;\n",
       "  white-space: pre-wrap;\n",
       "}\n",
       "</style>\n",
       "<small>shape: (1_294, 4)</small><table border=\"1\" class=\"dataframe\"><thead><tr><th>Source</th><th>Set Type</th><th>ID</th><th>Count</th></tr><tr><td>cat</td><td>cat</td><td>str</td><td>u32</td></tr></thead><tbody><tr><td>&quot;ARC-AGI-2&quot;</td><td>&quot;training&quot;</td><td>&quot;54dc2872&quot;</td><td>1</td></tr><tr><td>&quot;ARC-AGI-1&quot;</td><td>&quot;evaluation&quot;</td><td>&quot;4f537728&quot;</td><td>1</td></tr><tr><td>&quot;ARC-AGI-1&quot;</td><td>&quot;training&quot;</td><td>&quot;e21d9049&quot;</td><td>1</td></tr><tr><td>&quot;ARC-AGI-1&quot;</td><td>&quot;evaluation&quot;</td><td>&quot;55059096&quot;</td><td>1</td></tr><tr><td>&quot;ARC-AGI-2&quot;</td><td>&quot;training&quot;</td><td>&quot;db7260a4&quot;</td><td>1</td></tr><tr><td>&hellip;</td><td>&hellip;</td><td>&hellip;</td><td>&hellip;</td></tr><tr><td>&quot;ARC-AGI-1&quot;</td><td>&quot;training&quot;</td><td>&quot;bd4472b8&quot;</td><td>1</td></tr><tr><td>&quot;ARC-AGI-2&quot;</td><td>&quot;training&quot;</td><td>&quot;88a10436&quot;</td><td>1</td></tr><tr><td>&quot;ARC-AGI-2&quot;</td><td>&quot;training&quot;</td><td>&quot;776ffc46&quot;</td><td>1</td></tr><tr><td>&quot;ARC-AGI-2&quot;</td><td>&quot;training&quot;</td><td>&quot;aabf363d&quot;</td><td>1</td></tr><tr><td>&quot;ARC-AGI-2&quot;</td><td>&quot;training&quot;</td><td>&quot;a8610ef7&quot;</td><td>1</td></tr></tbody></table></div>"
      ]
     },
     "metadata": {},
     "output_type": "display_data"
    },
    {
     "data": {
      "text/plain": [
       "shape: (4, 3)\n",
       "┌───────────┬────────────┬───────┐\n",
       "│ Source    ┆ Set Type   ┆ Count │\n",
       "│ ---       ┆ ---        ┆ ---   │\n",
       "│ cat       ┆ cat        ┆ u32   │\n",
       "╞═══════════╪════════════╪═══════╡\n",
       "│ ARC-AGI-2 ┆ evaluation ┆ 82    │\n",
       "│ ARC-AGI-1 ┆ evaluation ┆ 270   │\n",
       "│ ARC-AGI-1 ┆ training   ┆ 262   │\n",
       "│ ARC-AGI-2 ┆ training   ┆ 680   │\n",
       "└───────────┴────────────┴───────┘"
      ],
      "text/html": [
       "<div><style>\n",
       ".dataframe > thead > tr,\n",
       ".dataframe > tbody > tr {\n",
       "  text-align: right;\n",
       "  white-space: pre-wrap;\n",
       "}\n",
       "</style>\n",
       "<small>shape: (4, 3)</small><table border=\"1\" class=\"dataframe\"><thead><tr><th>Source</th><th>Set Type</th><th>Count</th></tr><tr><td>cat</td><td>cat</td><td>u32</td></tr></thead><tbody><tr><td>&quot;ARC-AGI-2&quot;</td><td>&quot;evaluation&quot;</td><td>82</td></tr><tr><td>&quot;ARC-AGI-1&quot;</td><td>&quot;evaluation&quot;</td><td>270</td></tr><tr><td>&quot;ARC-AGI-1&quot;</td><td>&quot;training&quot;</td><td>262</td></tr><tr><td>&quot;ARC-AGI-2&quot;</td><td>&quot;training&quot;</td><td>680</td></tr></tbody></table></div>"
      ]
     },
     "metadata": {},
     "output_type": "display_data"
    },
    {
     "data": {
      "text/plain": [
       "shape: (2, 2)\n",
       "┌───────────┬───────┐\n",
       "│ Source    ┆ Count │\n",
       "│ ---       ┆ ---   │\n",
       "│ cat       ┆ u32   │\n",
       "╞═══════════╪═══════╡\n",
       "│ ARC-AGI-2 ┆ 762   │\n",
       "│ ARC-AGI-1 ┆ 532   │\n",
       "└───────────┴───────┘"
      ],
      "text/html": [
       "<div><style>\n",
       ".dataframe > thead > tr,\n",
       ".dataframe > tbody > tr {\n",
       "  text-align: right;\n",
       "  white-space: pre-wrap;\n",
       "}\n",
       "</style>\n",
       "<small>shape: (2, 2)</small><table border=\"1\" class=\"dataframe\"><thead><tr><th>Source</th><th>Count</th></tr><tr><td>cat</td><td>u32</td></tr></thead><tbody><tr><td>&quot;ARC-AGI-2&quot;</td><td>762</td></tr><tr><td>&quot;ARC-AGI-1&quot;</td><td>532</td></tr></tbody></table></div>"
      ]
     },
     "metadata": {},
     "output_type": "display_data"
    }
   ],
   "execution_count": 207
  }
 ],
 "metadata": {
  "kernelspec": {
   "display_name": "Python 3",
   "language": "python",
   "name": "python3"
  },
  "language_info": {
   "codemirror_mode": {
    "name": "ipython",
    "version": 2
   },
   "file_extension": ".py",
   "mimetype": "text/x-python",
   "name": "python",
   "nbconvert_exporter": "python",
   "pygments_lexer": "ipython2",
   "version": "2.7.6"
  }
 },
 "nbformat": 4,
 "nbformat_minor": 5
}
