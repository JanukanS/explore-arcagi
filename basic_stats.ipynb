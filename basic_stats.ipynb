{
 "cells": [
  {
   "cell_type": "code",
   "id": "initial_id",
   "metadata": {
    "collapsed": true,
    "ExecuteTime": {
     "end_time": "2025-03-28T03:51:28.036369Z",
     "start_time": "2025-03-28T03:51:28.025803Z"
    }
   },
   "source": [
    "from arcexplore import *\n",
    "import pandas as pd\n",
    "from dataclasses import dataclass\n",
    "\n",
    "from typing import Callable"
   ],
   "outputs": [],
   "execution_count": 33
  },
  {
   "metadata": {
    "ExecuteTime": {
     "end_time": "2025-03-28T03:08:31.802377Z",
     "start_time": "2025-03-28T03:08:31.785285Z"
    }
   },
   "cell_type": "code",
   "source": [
    "ARC_Sets = {}\n",
    "for key in ARC_DATA:\n",
    "    ARC_Sets[f\"{key} Training\"] = ARC_DATA[key].training\n",
    "    ARC_Sets[f\"{key} Evaluation\"] = ARC_DATA[key].evaluation\n",
    "\n"
   ],
   "id": "33392a9a4e531c68",
   "outputs": [],
   "execution_count": 6
  },
  {
   "metadata": {
    "ExecuteTime": {
     "end_time": "2025-03-28T03:54:30.754780Z",
     "start_time": "2025-03-28T03:54:30.744169Z"
    }
   },
   "cell_type": "code",
   "source": [
    "@dataclass\n",
    "class ArcAnalysis:\n",
    "    data: Mapping[str, Mapping[str, Mapping[str, Task]]]\n",
    "    cols: tuple\n",
    "    analyze: Callable\n",
    "\n",
    "    def tabulate(self):\n",
    "        rows = [(k,) + self.analyze(v) for k,v in self.data.items()]\n",
    "        columns = (\"Dataset\",) + self.cols\n",
    "        return pd.DataFrame.from_records(rows, columns=columns, index=\"Dataset\")"
   ],
   "id": "3ec596f82dd45cc0",
   "outputs": [],
   "execution_count": 41
  },
  {
   "metadata": {
    "ExecuteTime": {
     "end_time": "2025-03-28T04:02:31.311050Z",
     "start_time": "2025-03-28T04:02:31.231853Z"
    }
   },
   "cell_type": "code",
   "source": [
    "def count_tasks(dset: Mapping[str,Task]):\n",
    "    grid_count = [len(d.test)+len(d.train) for _, d in dset.items()]\n",
    "    sum_points = lambda x: sum([np.prod(y.input.shape) + np.prod(y.output.shape) for y in x])\n",
    "    grid_points = [sum_points(d.test)+sum_points(d.train) for _, d in dset.items()]\n",
    "    return (len(dset), sum(grid_count), sum(grid_points))\n",
    "\n",
    "ArcAnalysis(data=ARC_Sets,\n",
    "            cols=(\"Tasks\",\"Grid Pairs\", \"Grid Points\"),\n",
    "            analyze=count_tasks).tabulate()"
   ],
   "id": "21760cd5407adec6",
   "outputs": [
    {
     "data": {
      "text/plain": [
       "                      Tasks  Grid Pairs  Grid Points\n",
       "Dataset                                             \n",
       "ARC-AGI-1 Training      400        1718       443235\n",
       "ARC-AGI-1 Evaluation    400        1782       742351\n",
       "ARC-AGI-2 Training     1000        4308      1443669\n",
       "ARC-AGI-2 Evaluation    120         529       384199"
      ],
      "text/html": [
       "<div>\n",
       "<style scoped>\n",
       "    .dataframe tbody tr th:only-of-type {\n",
       "        vertical-align: middle;\n",
       "    }\n",
       "\n",
       "    .dataframe tbody tr th {\n",
       "        vertical-align: top;\n",
       "    }\n",
       "\n",
       "    .dataframe thead th {\n",
       "        text-align: right;\n",
       "    }\n",
       "</style>\n",
       "<table border=\"1\" class=\"dataframe\">\n",
       "  <thead>\n",
       "    <tr style=\"text-align: right;\">\n",
       "      <th></th>\n",
       "      <th>Tasks</th>\n",
       "      <th>Grid Pairs</th>\n",
       "      <th>Grid Points</th>\n",
       "    </tr>\n",
       "    <tr>\n",
       "      <th>Dataset</th>\n",
       "      <th></th>\n",
       "      <th></th>\n",
       "      <th></th>\n",
       "    </tr>\n",
       "  </thead>\n",
       "  <tbody>\n",
       "    <tr>\n",
       "      <th>ARC-AGI-1 Training</th>\n",
       "      <td>400</td>\n",
       "      <td>1718</td>\n",
       "      <td>443235</td>\n",
       "    </tr>\n",
       "    <tr>\n",
       "      <th>ARC-AGI-1 Evaluation</th>\n",
       "      <td>400</td>\n",
       "      <td>1782</td>\n",
       "      <td>742351</td>\n",
       "    </tr>\n",
       "    <tr>\n",
       "      <th>ARC-AGI-2 Training</th>\n",
       "      <td>1000</td>\n",
       "      <td>4308</td>\n",
       "      <td>1443669</td>\n",
       "    </tr>\n",
       "    <tr>\n",
       "      <th>ARC-AGI-2 Evaluation</th>\n",
       "      <td>120</td>\n",
       "      <td>529</td>\n",
       "      <td>384199</td>\n",
       "    </tr>\n",
       "  </tbody>\n",
       "</table>\n",
       "</div>"
      ]
     },
     "execution_count": 49,
     "metadata": {},
     "output_type": "execute_result"
    }
   ],
   "execution_count": 49
  },
  {
   "metadata": {
    "ExecuteTime": {
     "end_time": "2025-03-28T04:09:18.412887Z",
     "start_time": "2025-03-28T04:09:18.388658Z"
    }
   },
   "cell_type": "code",
   "source": [
    "def count_equal_tasks(dset: Mapping[str,Task]):\n",
    "    eq = 0\n",
    "    check_eq = lambda t: 1 if tuple(t.input.shape) == tuple(t.output.shape) else 0\n",
    "    for _, task in dset.items():\n",
    "        ind_eq = sum([check_eq(t) for t in task.train])\n",
    "        ind_eq += sum([check_eq(t) for t in task.test])\n",
    "        if ind_eq == (len(task.train) + len(task.train)):\n",
    "            eq += 1\n",
    "    return (eq, len(dset))\n",
    "\n",
    "ArcAnalysis(data=ARC_Sets,\n",
    "            cols=(\"Equal Tasks\",\"Total Tasks\"),\n",
    "            analyze=count_equal_tasks).tabulate()"
   ],
   "id": "b0ddd1a575076e1d",
   "outputs": [
    {
     "data": {
      "text/plain": [
       "                      Equal Tasks  Total Tasks\n",
       "Dataset                                       \n",
       "ARC-AGI-1 Training              1          400\n",
       "ARC-AGI-1 Evaluation            0          400\n",
       "ARC-AGI-2 Training              6         1000\n",
       "ARC-AGI-2 Evaluation           12          120"
      ],
      "text/html": [
       "<div>\n",
       "<style scoped>\n",
       "    .dataframe tbody tr th:only-of-type {\n",
       "        vertical-align: middle;\n",
       "    }\n",
       "\n",
       "    .dataframe tbody tr th {\n",
       "        vertical-align: top;\n",
       "    }\n",
       "\n",
       "    .dataframe thead th {\n",
       "        text-align: right;\n",
       "    }\n",
       "</style>\n",
       "<table border=\"1\" class=\"dataframe\">\n",
       "  <thead>\n",
       "    <tr style=\"text-align: right;\">\n",
       "      <th></th>\n",
       "      <th>Equal Tasks</th>\n",
       "      <th>Total Tasks</th>\n",
       "    </tr>\n",
       "    <tr>\n",
       "      <th>Dataset</th>\n",
       "      <th></th>\n",
       "      <th></th>\n",
       "    </tr>\n",
       "  </thead>\n",
       "  <tbody>\n",
       "    <tr>\n",
       "      <th>ARC-AGI-1 Training</th>\n",
       "      <td>1</td>\n",
       "      <td>400</td>\n",
       "    </tr>\n",
       "    <tr>\n",
       "      <th>ARC-AGI-1 Evaluation</th>\n",
       "      <td>0</td>\n",
       "      <td>400</td>\n",
       "    </tr>\n",
       "    <tr>\n",
       "      <th>ARC-AGI-2 Training</th>\n",
       "      <td>6</td>\n",
       "      <td>1000</td>\n",
       "    </tr>\n",
       "    <tr>\n",
       "      <th>ARC-AGI-2 Evaluation</th>\n",
       "      <td>12</td>\n",
       "      <td>120</td>\n",
       "    </tr>\n",
       "  </tbody>\n",
       "</table>\n",
       "</div>"
      ]
     },
     "execution_count": 52,
     "metadata": {},
     "output_type": "execute_result"
    }
   ],
   "execution_count": 52
  },
  {
   "metadata": {},
   "cell_type": "code",
   "outputs": [],
   "execution_count": null,
   "source": "",
   "id": "29d27c6e2be7bd0e"
  }
 ],
 "metadata": {
  "kernelspec": {
   "display_name": "Python 3",
   "language": "python",
   "name": "python3"
  },
  "language_info": {
   "codemirror_mode": {
    "name": "ipython",
    "version": 2
   },
   "file_extension": ".py",
   "mimetype": "text/x-python",
   "name": "python",
   "nbconvert_exporter": "python",
   "pygments_lexer": "ipython2",
   "version": "2.7.6"
  }
 },
 "nbformat": 4,
 "nbformat_minor": 5
}
